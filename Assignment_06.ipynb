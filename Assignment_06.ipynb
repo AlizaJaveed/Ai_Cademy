{
 "cells": [
  {
   "cell_type": "markdown",
   "id": "a77a42c0",
   "metadata": {},
   "source": [
    "# Question 01 "
   ]
  },
  {
   "cell_type": "code",
   "execution_count": 9,
   "id": "4fd642b0",
   "metadata": {},
   "outputs": [
    {
     "name": "stdout",
     "output_type": "stream",
     "text": [
      "1625\n"
     ]
    }
   ],
   "source": [
    "N = 10\n",
    "M = 13\n",
    "S = 0\n",
    "Ans = 0\n",
    "for i in range(1 , N+1):\n",
    "    for j in range(1 , M+1):\n",
    "        S += i+j\n",
    "print(S)"
   ]
  },
  {
   "cell_type": "markdown",
   "id": "cd0fccb6",
   "metadata": {},
   "source": [
    "# Question 02"
   ]
  },
  {
   "cell_type": "code",
   "execution_count": 13,
   "id": "9232087c",
   "metadata": {},
   "outputs": [
    {
     "name": "stdout",
     "output_type": "stream",
     "text": [
      "4.82\n"
     ]
    }
   ],
   "source": [
    "N = 5\n",
    "M = 5\n",
    "S = 0\n",
    "Ans = 0\n",
    "for i in range(1 , N+1):\n",
    "    for j in range(1 , M+1):\n",
    "        S += 1/(i+j)\n",
    "print(f\"{S:.2f}\")"
   ]
  },
  {
   "cell_type": "markdown",
   "id": "8b0fa368",
   "metadata": {},
   "source": [
    "# Question 03"
   ]
  },
  {
   "cell_type": "code",
   "execution_count": 46,
   "id": "512b5905",
   "metadata": {},
   "outputs": [
    {
     "name": "stdout",
     "output_type": "stream",
     "text": [
      "1.0   ,  1.2\n",
      "2.0   ,  2.4\n",
      "3.0   ,  3.6\n",
      "4.0   ,  4.8\n",
      "5.0   ,  6.0\n",
      "S: 2.2\n",
      "ANSWERT: 0.2\n"
     ]
    }
   ],
   "source": [
    "j = 1.2\n",
    "i = 1.0\n",
    "M = 5\n",
    "h0 = 0.0\n",
    "h1 = 1.0\n",
    "S = 0.0\n",
    "for i in range(1,M+1):\n",
    "    print(f\"{i:.1f}   ,  {j:.1f}\")\n",
    "    S += (((h0+h1)*i) - j)**2\n",
    "    i += 1\n",
    "    j += 1.2 \n",
    "print(f\"S: {S:.1f}\")\n",
    "test = (1/(2*M)) *S\n",
    "print(f\"ANSWERT: {test:.1f}\")"
   ]
  },
  {
   "cell_type": "code",
   "execution_count": 74,
   "id": "eac383d2",
   "metadata": {},
   "outputs": [
    {
     "name": "stdout",
     "output_type": "stream",
     "text": [
      "ANSWERT: 0.2\n"
     ]
    }
   ],
   "source": [
    "list1 = [[1.0, 1.2], [2.0, 2.4], [3.0, 3.6], [4.0, 4.8], [5.0, 6.0]]\n",
    "M = 5\n",
    "h0 = 0.0\n",
    "h1 = 1.0\n",
    "S = 0.0\n",
    "for i , j in list1:\n",
    "    #print(f\"{i:.1f}   ,  {j:.1f}\")\n",
    "    S += (((h0+h1)*i) - j)**2\n",
    "#print(f\"S: {S:.1f}\")\n",
    "test = (1/(2*M)) *S\n",
    "print(f\"ANSWERT: {test:.1f}\")"
   ]
  },
  {
   "cell_type": "markdown",
   "id": "6e7a01f3",
   "metadata": {},
   "source": [
    "# Question 04"
   ]
  },
  {
   "cell_type": "code",
   "execution_count": 52,
   "id": "ab51b969",
   "metadata": {},
   "outputs": [
    {
     "name": "stdout",
     "output_type": "stream",
     "text": [
      "1.0   ,  1.1\n",
      "2.0   ,  2.2\n",
      "3.0   ,  3.3\n",
      "4.0   ,  4.4\n",
      "5.0   ,  5.5\n",
      "6.0   ,  6.6\n",
      "7.0   ,  7.7\n",
      "8.0   ,  8.8\n",
      "S: 2.0\n",
      "Cost of f(theta 0,theta 1) is :0.13\n"
     ]
    }
   ],
   "source": [
    "j = 1.1\n",
    "i = 1.0\n",
    "M = 8\n",
    "h0 = 0.0\n",
    "h1 = 1.0\n",
    "S = 0.0\n",
    "for i in range(1,M+1):\n",
    "    print(f\"{i:.1f}   ,  {j:.1f}\")\n",
    "    S += (((h0+h1)*i) - j)**2\n",
    "    j += 1.1\n",
    "print(f\"S: {S:.1f}\")\n",
    "test = (1/(2*M)) *S\n",
    "print(f'Cost of f(theta 0,theta 1) is :{test:.2f}')"
   ]
  },
  {
   "cell_type": "code",
   "execution_count": 50,
   "id": "b5173666",
   "metadata": {},
   "outputs": [
    {
     "name": "stdout",
     "output_type": "stream",
     "text": [
      "Cost of f(theta 0,theta 1) is :0.13\n"
     ]
    }
   ],
   "source": [
    "list1 = [[1.0, 1.1], [2.0, 2.2], [3.0, 3.3], [4.0, 4.4], [5.0, 5.5], [6.0, 6.6], [7.0, 7.7], [8.0, 8.8]]\n",
    "M = len(list1)\n",
    "S = 0.0\n",
    "\n",
    "for i, j in list1:\n",
    "    S += ((h0 + h1 * i) - j) ** 2\n",
    "\n",
    "test = (1 / (2 * M)) * S\n",
    "\n",
    "print(f'Cost of f(theta 0,theta 1) is :{test:.2f}')"
   ]
  },
  {
   "cell_type": "code",
   "execution_count": 72,
   "id": "e2a43a9a",
   "metadata": {},
   "outputs": [
    {
     "name": "stdout",
     "output_type": "stream",
     "text": [
      "1.0   ,  1.1\n",
      "2.0   ,  2.2\n",
      "3.0   ,  3.3\n",
      "4.0   ,  4.4\n",
      "5.0   ,  5.5\n",
      "6.0   ,  6.6\n",
      "7.0   ,  7.7\n",
      "8.0   ,  8.8\n",
      "S: 2.0\n",
      "Cost of f(theta 0,theta 1) is :0.13\n"
     ]
    }
   ],
   "source": [
    "list1 = [[1.0,1.1],[2.0,2.2],[3.0,3.3],[4.0,4.4],[5.0,5.5],[6.0,6.6],[7.0,7.7],[8.0,8.8]]\n",
    "M = len(list1)\n",
    "h0 = 0.0\n",
    "h1 = 1.0\n",
    "S = 0.0\n",
    "for i ,j in list1:\n",
    "    print(f\"{i:.1f}   ,  {j:.1f}\")\n",
    "    S += (((h0+h1)*i) - j)**2\n",
    "print(f\"S: {S:.1f}\")\n",
    "test = (1/(2*M)) *S\n",
    "print(f'Cost of f(theta 0,theta 1) is :{test:.2f}')"
   ]
  },
  {
   "cell_type": "markdown",
   "id": "4f3603a8",
   "metadata": {},
   "source": [
    "# Question 05"
   ]
  },
  {
   "cell_type": "code",
   "execution_count": 3,
   "id": "44c9239d",
   "metadata": {},
   "outputs": [
    {
     "name": "stdout",
     "output_type": "stream",
     "text": [
      "Cost of f(theta 0, theta 1) is for h0=1.0, h1=0.5: 2.04\n"
     ]
    }
   ],
   "source": [
    "list1 = [[1.0, 1.1], [2.0, 2.2], [3.0, 3.3], [4.0, 4.4], [5.0, 5.5], [6.0, 6.6], [7.0, 7.7], [8.0, 8.8]]\n",
    "list2 = [[-0.5, 0.5], [0.0, -0.5], [0.0, 0.0], [0.0, 0.5], [0.5, -0.5], [0.5, 0.0], [0.5, 0.5], [1.0, -0.5], [1.0, 0.0], [1.0, 0.5]]\n",
    "M = len(list1)\n",
    "\n",
    "for h0, h1 in list2:\n",
    "    S = 0.0\n",
    "    for i, j in list1:\n",
    "        S += (((h0 + h1)* i) - j) ** 2\n",
    "\n",
    "    test = (1 / (2 * M)) * S\n",
    "print(f'Cost of f(theta 0, theta 1) is for h0={h0}, h1={h1}: {test:.2f}')\n"
   ]
  },
  {
   "cell_type": "markdown",
   "id": "a76ba99b",
   "metadata": {},
   "source": [
    "# THe END"
   ]
  }
 ],
 "metadata": {
  "kernelspec": {
   "display_name": "Python 3 (ipykernel)",
   "language": "python",
   "name": "python3"
  },
  "language_info": {
   "codemirror_mode": {
    "name": "ipython",
    "version": 3
   },
   "file_extension": ".py",
   "mimetype": "text/x-python",
   "name": "python",
   "nbconvert_exporter": "python",
   "pygments_lexer": "ipython3",
   "version": "3.11.5"
  }
 },
 "nbformat": 4,
 "nbformat_minor": 5
}
