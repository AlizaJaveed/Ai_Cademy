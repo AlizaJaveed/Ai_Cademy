{
 "cells": [
  {
   "cell_type": "code",
   "execution_count": 2,
   "id": "ab084691",
   "metadata": {},
   "outputs": [
    {
     "name": "stdout",
     "output_type": "stream",
     "text": [
      "She said \"you're a liar!\" \n"
     ]
    }
   ],
   "source": [
    "print(\"\"\"She said \"you're a liar!\" \"\"\")"
   ]
  },
  {
   "cell_type": "markdown",
   "id": "920e28b6",
   "metadata": {},
   "source": []
  },
  {
   "cell_type": "code",
   "execution_count": 3,
   "id": "9a76e794",
   "metadata": {},
   "outputs": [
    {
     "name": "stdout",
     "output_type": "stream",
     "text": [
      "My name is Aliza Javed and my age is 21.\n"
     ]
    }
   ],
   "source": [
    "name = \"Aliza Javed\"\n",
    "age = 21\n",
    "print(f\"My name is {name} and my age is {age}.\")"
   ]
  },
  {
   "cell_type": "code",
   "execution_count": 5,
   "id": "3a305439",
   "metadata": {},
   "outputs": [
    {
     "name": "stdout",
     "output_type": "stream",
     "text": [
      "the value of x is 1.21\n"
     ]
    }
   ],
   "source": [
    "x = 1.21212\n",
    "print(f\"the value of x is {x:.2f}\")"
   ]
  },
  {
   "cell_type": "code",
   "execution_count": 6,
   "id": "95f00eee",
   "metadata": {},
   "outputs": [
    {
     "name": "stdout",
     "output_type": "stream",
     "text": [
      "my name is Aliza Javed \n",
      " i am a python developer \n",
      " i am Genius\n"
     ]
    }
   ],
   "source": [
    "print(\"my name is Aliza Javed \\ni am a python developer \\ni am Genius\")"
   ]
  },
  {
   "cell_type": "code",
   "execution_count": 7,
   "id": "e7316e4c",
   "metadata": {},
   "outputs": [
    {
     "name": "stdout",
     "output_type": "stream",
     "text": [
      "\n",
      "my name is Aliza Javed \n",
      " i am a python developer \n",
      " i am Genius\n",
      " \n"
     ]
    }
   ],
   "source": [
    "print(\"\"\"\n",
    "my name is Aliza Javed \n",
    " i am a python developer \n",
    " i am Genius\n",
    " \"\"\")"
   ]
  },
  {
   "cell_type": "markdown",
   "id": "e74dc9fd",
   "metadata": {},
   "source": []
  },
  {
   "cell_type": "code",
   "execution_count": 11,
   "id": "8bd98596",
   "metadata": {},
   "outputs": [],
   "source": [
    "msg = \"\"\"I have an elephant \\t that eats sugarcane\"\"\""
   ]
  },
  {
   "cell_type": "code",
   "execution_count": 12,
   "id": "6620a719",
   "metadata": {},
   "outputs": [],
   "source": [
    "msg = \"\"\"I have an elephant \\t that eats sugarcane\"\"\""
   ]
  },
  {
   "cell_type": "markdown",
   "id": "b88b1199",
   "metadata": {},
   "source": [
    "#parwaz"
   ]
  },
  {
   "cell_type": "markdown",
   "id": "9446989e",
   "metadata": {},
   "source": [
    "num_1 = 12\n",
    "num_2 = 3\n",
    "print(num_1)"
   ]
  },
  {
   "cell_type": "code",
   "execution_count": 14,
   "id": "eb4514d7",
   "metadata": {},
   "outputs": [
    {
     "data": {
      "text/plain": [
       "str"
      ]
     },
     "execution_count": 14,
     "metadata": {},
     "output_type": "execute_result"
    }
   ],
   "source": [
    "apples = '20'\n",
    "type(apples)"
   ]
  },
  {
   "cell_type": "code",
   "execution_count": 16,
   "id": "cc61df3b",
   "metadata": {},
   "outputs": [
    {
     "name": "stdout",
     "output_type": "stream",
     "text": [
      "21\n"
     ]
    }
   ],
   "source": [
    "c = int(apples)+1\n",
    "print(c)"
   ]
  },
  {
   "cell_type": "code",
   "execution_count": 17,
   "id": "48a965ea",
   "metadata": {},
   "outputs": [
    {
     "data": {
      "text/plain": [
       "False"
      ]
     },
     "execution_count": 17,
     "metadata": {},
     "output_type": "execute_result"
    }
   ],
   "source": [
    "x = True\n",
    "y = False\n",
    "x and y\n"
   ]
  },
  {
   "cell_type": "code",
   "execution_count": 18,
   "id": "2a618f99",
   "metadata": {},
   "outputs": [
    {
     "data": {
      "text/plain": [
       "True"
      ]
     },
     "execution_count": 18,
     "metadata": {},
     "output_type": "execute_result"
    }
   ],
   "source": [
    "x or y"
   ]
  },
  {
   "cell_type": "code",
   "execution_count": 21,
   "id": "30b9ac30",
   "metadata": {},
   "outputs": [
    {
     "data": {
      "text/plain": [
       "False"
      ]
     },
     "execution_count": 21,
     "metadata": {},
     "output_type": "execute_result"
    }
   ],
   "source": [
    "not x"
   ]
  },
  {
   "cell_type": "code",
   "execution_count": 22,
   "id": "500f6839",
   "metadata": {},
   "outputs": [
    {
     "data": {
      "text/plain": [
       "True"
      ]
     },
     "execution_count": 22,
     "metadata": {},
     "output_type": "execute_result"
    }
   ],
   "source": [
    "3 >= 2"
   ]
  },
  {
   "cell_type": "code",
   "execution_count": 23,
   "id": "c3f2e917",
   "metadata": {},
   "outputs": [
    {
     "data": {
      "text/plain": [
       "True"
      ]
     },
     "execution_count": 23,
     "metadata": {},
     "output_type": "execute_result"
    }
   ],
   "source": [
    "3 == 3"
   ]
  },
  {
   "cell_type": "code",
   "execution_count": 24,
   "id": "6e4ed399",
   "metadata": {},
   "outputs": [
    {
     "data": {
      "text/plain": [
       "True"
      ]
     },
     "execution_count": 24,
     "metadata": {},
     "output_type": "execute_result"
    }
   ],
   "source": [
    "3 != 4"
   ]
  },
  {
   "cell_type": "code",
   "execution_count": 25,
   "id": "7444132e",
   "metadata": {},
   "outputs": [],
   "source": [
    "from datetime import datetime\n",
    "current_datetime = datetime.now()"
   ]
  },
  {
   "cell_type": "code",
   "execution_count": 26,
   "id": "739164f8",
   "metadata": {},
   "outputs": [
    {
     "data": {
      "text/plain": [
       "datetime.datetime(2023, 10, 23, 16, 31, 34, 457160)"
      ]
     },
     "execution_count": 26,
     "metadata": {},
     "output_type": "execute_result"
    }
   ],
   "source": [
    "current_datetime"
   ]
  },
  {
   "cell_type": "code",
   "execution_count": 27,
   "id": "ff37f5bf",
   "metadata": {},
   "outputs": [
    {
     "name": "stdout",
     "output_type": "stream",
     "text": [
      "2023-10-23 16:31:34.457160\n"
     ]
    }
   ],
   "source": [
    "print(current_datetime)"
   ]
  },
  {
   "cell_type": "code",
   "execution_count": 32,
   "id": "6ea79175",
   "metadata": {},
   "outputs": [],
   "source": [
    "formatted_date = current_datetime.strftime(\"%d-%m-%Y\") "
   ]
  },
  {
   "cell_type": "code",
   "execution_count": 33,
   "id": "198b46de",
   "metadata": {},
   "outputs": [
    {
     "name": "stdout",
     "output_type": "stream",
     "text": [
      "23-10-2023\n"
     ]
    }
   ],
   "source": [
    "print(formatted_date)"
   ]
  },
  {
   "cell_type": "code",
   "execution_count": 36,
   "id": "b4d4d277",
   "metadata": {},
   "outputs": [
    {
     "name": "stdout",
     "output_type": "stream",
     "text": [
      "7826 days, 0:00:00\n"
     ]
    }
   ],
   "source": [
    "date1 = datetime(2023,10,23)\n",
    "date2 = datetime(2002,5,20)\n",
    "diff = date1 - date2\n",
    "print(diff)"
   ]
  },
  {
   "cell_type": "code",
   "execution_count": null,
   "id": "d1b938d2",
   "metadata": {},
   "outputs": [],
   "source": [
    "from datetime import datetime, timedelta\n"
   ]
  },
  {
   "cell_type": "code",
   "execution_count": 43,
   "id": "f2e9d744",
   "metadata": {},
   "outputs": [
    {
     "name": "stdout",
     "output_type": "stream",
     "text": [
      "2023-11-13 16:44:11.687033\n"
     ]
    }
   ],
   "source": [
    "from datetime import datetime, timedelta\n",
    "current_date = datetime.now()\n",
    "difference  =timedelta(weeks=3) \n",
    "new_date =current_date + difference\n",
    "print(new_date)"
   ]
  },
  {
   "cell_type": "code",
   "execution_count": 44,
   "id": "146619fb",
   "metadata": {},
   "outputs": [
    {
     "name": "stdout",
     "output_type": "stream",
     "text": [
      "2023-10-26 16:44:21.736511\n"
     ]
    }
   ],
   "source": [
    "from datetime import datetime, timedelta\n",
    "current_date = datetime.now()\n",
    "difference  = timedelta(days=3) \n",
    "new_date = current_date + difference\n",
    "print(new_date)"
   ]
  },
  {
   "cell_type": "code",
   "execution_count": 45,
   "id": "eb92cdef",
   "metadata": {},
   "outputs": [
    {
     "name": "stdout",
     "output_type": "stream",
     "text": [
      "Enter age : 21\n",
      "21\n"
     ]
    }
   ],
   "source": [
    "age = input(\"Enter age : \")\n",
    "print(age)"
   ]
  },
  {
   "cell_type": "code",
   "execution_count": 46,
   "id": "5ea8bfef",
   "metadata": {},
   "outputs": [
    {
     "data": {
      "text/plain": [
       "5"
      ]
     },
     "execution_count": 46,
     "metadata": {},
     "output_type": "execute_result"
    }
   ],
   "source": [
    "3 +++ 2"
   ]
  },
  {
   "cell_type": "code",
   "execution_count": 47,
   "id": "a861953e",
   "metadata": {},
   "outputs": [
    {
     "ename": "SyntaxError",
     "evalue": "invalid syntax (2185613305.py, line 1)",
     "output_type": "error",
     "traceback": [
      "\u001b[1;36m  Cell \u001b[1;32mIn[47], line 1\u001b[1;36m\u001b[0m\n\u001b[1;33m    3 /// 2\u001b[0m\n\u001b[1;37m        ^\u001b[0m\n\u001b[1;31mSyntaxError\u001b[0m\u001b[1;31m:\u001b[0m invalid syntax\n"
     ]
    }
   ],
   "source": [
    "3 /// 2"
   ]
  },
  {
   "cell_type": "code",
   "execution_count": 48,
   "id": "fcdee328",
   "metadata": {},
   "outputs": [
    {
     "ename": "SyntaxError",
     "evalue": "invalid decimal literal (978631150.py, line 1)",
     "output_type": "error",
     "traceback": [
      "\u001b[1;36m  Cell \u001b[1;32mIn[48], line 1\u001b[1;36m\u001b[0m\n\u001b[1;33m    1x = 12\u001b[0m\n\u001b[1;37m    ^\u001b[0m\n\u001b[1;31mSyntaxError\u001b[0m\u001b[1;31m:\u001b[0m invalid decimal literal\n"
     ]
    }
   ],
   "source": [
    "1x = 12"
   ]
  },
  {
   "cell_type": "code",
   "execution_count": 49,
   "id": "4e9be716",
   "metadata": {},
   "outputs": [
    {
     "ename": "NameError",
     "evalue": "name 'a' is not defined",
     "output_type": "error",
     "traceback": [
      "\u001b[1;31m---------------------------------------------------------------------------\u001b[0m",
      "\u001b[1;31mNameError\u001b[0m                                 Traceback (most recent call last)",
      "Cell \u001b[1;32mIn[49], line 1\u001b[0m\n\u001b[1;32m----> 1\u001b[0m \u001b[38;5;241m9\u001b[39m\u001b[38;5;241m/\u001b[39ma\n",
      "\u001b[1;31mNameError\u001b[0m: name 'a' is not defined"
     ]
    }
   ],
   "source": [
    "9/a"
   ]
  },
  {
   "cell_type": "code",
   "execution_count": 50,
   "id": "8b1ec9ec",
   "metadata": {},
   "outputs": [
    {
     "ename": "TypeError",
     "evalue": "unsupported operand type(s) for +: 'int' and 'str'",
     "output_type": "error",
     "traceback": [
      "\u001b[1;31m---------------------------------------------------------------------------\u001b[0m",
      "\u001b[1;31mTypeError\u001b[0m                                 Traceback (most recent call last)",
      "Cell \u001b[1;32mIn[50], line 1\u001b[0m\n\u001b[1;32m----> 1\u001b[0m \u001b[38;5;241m2\u001b[39m\u001b[38;5;241m+\u001b[39m\u001b[38;5;124m\"\u001b[39m\u001b[38;5;124maliza\u001b[39m\u001b[38;5;124m\"\u001b[39m\n",
      "\u001b[1;31mTypeError\u001b[0m: unsupported operand type(s) for +: 'int' and 'str'"
     ]
    }
   ],
   "source": [
    "2+\"aliza\""
   ]
  },
  {
   "cell_type": "code",
   "execution_count": 51,
   "id": "448aef10",
   "metadata": {},
   "outputs": [
    {
     "ename": "ValueError",
     "evalue": "invalid literal for int() with base 10: 'a12'",
     "output_type": "error",
     "traceback": [
      "\u001b[1;31m---------------------------------------------------------------------------\u001b[0m",
      "\u001b[1;31mValueError\u001b[0m                                Traceback (most recent call last)",
      "Cell \u001b[1;32mIn[51], line 2\u001b[0m\n\u001b[0;32m      1\u001b[0m a \u001b[38;5;241m=\u001b[39m \u001b[38;5;124m\"\u001b[39m\u001b[38;5;124ma12\u001b[39m\u001b[38;5;124m\"\u001b[39m\n\u001b[1;32m----> 2\u001b[0m c  \u001b[38;5;241m=\u001b[39m \u001b[38;5;28mint\u001b[39m(a)\n\u001b[0;32m      3\u001b[0m \u001b[38;5;28mprint\u001b[39m(c)\n",
      "\u001b[1;31mValueError\u001b[0m: invalid literal for int() with base 10: 'a12'"
     ]
    }
   ],
   "source": [
    "a = \"a12\"\n",
    "c  = int(a)\n",
    "print(c)"
   ]
  },
  {
   "cell_type": "code",
   "execution_count": 52,
   "id": "1638bf8d",
   "metadata": {},
   "outputs": [
    {
     "ename": "ZeroDivisionError",
     "evalue": "division by zero",
     "output_type": "error",
     "traceback": [
      "\u001b[1;31m---------------------------------------------------------------------------\u001b[0m",
      "\u001b[1;31mZeroDivisionError\u001b[0m                         Traceback (most recent call last)",
      "Cell \u001b[1;32mIn[52], line 1\u001b[0m\n\u001b[1;32m----> 1\u001b[0m \u001b[38;5;241m10\u001b[39m\u001b[38;5;241m/\u001b[39m\u001b[38;5;241m0\u001b[39m\n",
      "\u001b[1;31mZeroDivisionError\u001b[0m: division by zero"
     ]
    }
   ],
   "source": [
    "10/0\n"
   ]
  },
  {
   "cell_type": "code",
   "execution_count": 53,
   "id": "a91c788a",
   "metadata": {},
   "outputs": [
    {
     "ename": "SyntaxError",
     "evalue": "incomplete input (3760671423.py, line 1)",
     "output_type": "error",
     "traceback": [
      "\u001b[1;36m  Cell \u001b[1;32mIn[53], line 1\u001b[1;36m\u001b[0m\n\u001b[1;33m    try:\u001b[0m\n\u001b[1;37m        ^\u001b[0m\n\u001b[1;31mSyntaxError\u001b[0m\u001b[1;31m:\u001b[0m incomplete input\n"
     ]
    }
   ],
   "source": [
    "try:"
   ]
  },
  {
   "cell_type": "code",
   "execution_count": 55,
   "id": "2c8721ff",
   "metadata": {},
   "outputs": [
    {
     "name": "stdout",
     "output_type": "stream",
     "text": [
      "enter your age: aad\n",
      "invalid literal for int() with base 10: 'aad'\n"
     ]
    }
   ],
   "source": [
    "try:\n",
    "    age = int(input(\"enter your age: \"))\n",
    "except ValueError as e:\n",
    "    print(e)\n",
    "else:\n",
    "    print(age)"
   ]
  },
  {
   "cell_type": "code",
   "execution_count": 56,
   "id": "584cc3d6",
   "metadata": {},
   "outputs": [
    {
     "name": "stdout",
     "output_type": "stream",
     "text": [
      "enter your age: 12a\n",
      "invalid literal for int() with base 10: '12a'\n"
     ]
    }
   ],
   "source": [
    "try:\n",
    "    age = int(input(\"enter your age: \"))\n",
    "except Exception as e:\n",
    "    print(e)\n",
    "else:\n",
    "    print(age)"
   ]
  },
  {
   "cell_type": "code",
   "execution_count": 2,
   "id": "3d685647",
   "metadata": {},
   "outputs": [
    {
     "name": "stdout",
     "output_type": "stream",
     "text": [
      "lecture\n"
     ]
    }
   ],
   "source": [
    "print(\"First lecture\")"
   ]
  },
  {
   "cell_type": "code",
   "execution_count": null,
   "id": "9a23a7f3",
   "metadata": {},
   "outputs": [],
   "source": [
    "Print(\"Good day Parwaz\")"
   ]
  }
 ],
 "metadata": {
  "kernelspec": {
   "display_name": "Python 3 (ipykernel)",
   "language": "python",
   "name": "python3"
  },
  "language_info": {
   "codemirror_mode": {
    "name": "ipython",
    "version": 3
   },
   "file_extension": ".py",
   "mimetype": "text/x-python",
   "name": "python",
   "nbconvert_exporter": "python",
   "pygments_lexer": "ipython3",
   "version": "3.11.5"
  }
 },
 "nbformat": 4,
 "nbformat_minor": 5
}
