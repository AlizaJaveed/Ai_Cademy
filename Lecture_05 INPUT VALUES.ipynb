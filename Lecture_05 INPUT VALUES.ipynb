{
 "cells": [
  {
   "cell_type": "code",
   "execution_count": 2,
   "id": "7f727cba",
   "metadata": {},
   "outputs": [
    {
     "name": "stdout",
     "output_type": "stream",
     "text": [
      "Enter number : 5\n",
      "15\n"
     ]
    }
   ],
   "source": [
    "num = int(input(\"Enter number : \"))\n",
    "sum = 0\n",
    "for i in range(1 , num+1):\n",
    "    sum += i\n",
    "    # sum = sum + i\n",
    "print(sum)"
   ]
  },
  {
   "cell_type": "code",
   "execution_count": 9,
   "id": "c5070b40",
   "metadata": {},
   "outputs": [
    {
     "name": "stdout",
     "output_type": "stream",
     "text": [
      "Enter number : 5\n",
      "The sum of squares of the first 5 natural numbers is: 55\n",
      "The sum of cubes of the first 5 natural numbers is: 225\n"
     ]
    }
   ],
   "source": [
    "num = int(input(\"Enter number : \"))\n",
    "s = 0\n",
    "c = 0\n",
    "for n in range(1 , num+1):\n",
    "    s += n**2\n",
    "    c += n**3\n",
    "print(f\"The sum of squares of the first {num} natural numbers is: {s}\")\n",
    "print(f\"The sum of cubes of the first {num} natural numbers is: {c}\")\n",
    "\n"
   ]
  },
  {
   "cell_type": "code",
   "execution_count": 10,
   "id": "746a7d0b",
   "metadata": {},
   "outputs": [
    {
     "name": "stdout",
     "output_type": "stream",
     "text": [
      "Approximation for N = 10000: 0.6930971830599583\n"
     ]
    }
   ],
   "source": [
    "N_values = [10, 100, 1000, 10000]\n",
    "for N in N_values:\n",
    "    S_estimated = 0\n",
    "    for n in range(1, N+1):\n",
    "        S_estimated += (-1)**(n+1)/n\n",
    "print(f\"Approximation for N = {N}: {S_estimated}\")"
   ]
  },
  {
   "cell_type": "code",
   "execution_count": 12,
   "id": "74722d3f",
   "metadata": {},
   "outputs": [
    {
     "name": "stdout",
     "output_type": "stream",
     "text": [
      "Enter a positive integer N: 5\n",
      "The sum of reciprocals of the squares of the first 5 natural numbers is:1.4636111111111112\n"
     ]
    }
   ],
   "source": [
    "N = int(input(\"Enter a positive integer N: \"))\n",
    "S_reciprocals = 0\n",
    "for n in range(1, N+1):\n",
    "    S_reciprocals += 1/n**2\n",
    "print(f\"The sum of reciprocals of the squares of the first {N} natural numbers is:{S_reciprocals}\")"
   ]
  },
  {
   "cell_type": "markdown",
   "id": "905e8655",
   "metadata": {},
   "source": [
    "# Problem 1: Arithmetic Series Sum\n"
   ]
  },
  {
   "cell_type": "code",
   "execution_count": 1,
   "id": "868427b5",
   "metadata": {},
   "outputs": [
    {
     "name": "stdout",
     "output_type": "stream",
     "text": [
      "15050\n"
     ]
    }
   ],
   "source": [
    "a = 2\n",
    "d = 3\n",
    "n = 100\n",
    "sum = 0\n",
    "for i in range(1 ,n+1):\n",
    "    sum = sum+(a+(i-1)*d)\n",
    "print(sum)"
   ]
  },
  {
   "cell_type": "markdown",
   "id": "c269897c",
   "metadata": {},
   "source": [
    "# Problem 2: Geometric Series Sum"
   ]
  },
  {
   "cell_type": "code",
   "execution_count": 48,
   "id": "fa920a65",
   "metadata": {},
   "outputs": [
    {
     "name": "stdout",
     "output_type": "stream",
     "text": [
      "59048\n"
     ]
    }
   ],
   "source": [
    "a = 2\n",
    "r = 3\n",
    "n = 10\n",
    "sum = 0\n",
    "for i in range(1 , n+1):\n",
    "    sum += a*(r**(i-1))\n",
    "print(sum)"
   ]
  },
  {
   "cell_type": "markdown",
   "id": "df7737e2",
   "metadata": {},
   "source": [
    "# Problem 3: Sum of 4th Power"
   ]
  },
  {
   "cell_type": "code",
   "execution_count": 6,
   "id": "8d6f7447",
   "metadata": {},
   "outputs": [
    {
     "name": "stdout",
     "output_type": "stream",
     "text": [
      "25333\n"
     ]
    }
   ],
   "source": [
    "n =10\n",
    "sum = 0\n",
    "for i in range(1, n+1):\n",
    "    sum += i**4\n",
    "print(sum)"
   ]
  },
  {
   "cell_type": "code",
   "execution_count": 56,
   "id": "7ab3e73d",
   "metadata": {},
   "outputs": [
    {
     "name": "stdout",
     "output_type": "stream",
     "text": [
      "671.4629471031477\n"
     ]
    }
   ],
   "source": [
    "n = 100\n",
    "sum = 0\n",
    "for i in range(1 , n+1):\n",
    "    sum += i**0.5\n",
    "print(sum)"
   ]
  },
  {
   "cell_type": "markdown",
   "id": "789fa9e4",
   "metadata": {},
   "source": [
    "# Problem 5: Harmonic Series Sum"
   ]
  },
  {
   "cell_type": "code",
   "execution_count": 9,
   "id": "11a849ee",
   "metadata": {},
   "outputs": [
    {
     "name": "stdout",
     "output_type": "stream",
     "text": [
      "5.19\n"
     ]
    }
   ],
   "source": [
    "n = 100\n",
    "sum = 0\n",
    "for i in range(1 ,n+1):\n",
    "    sum += 1/i\n",
    "print(f\"{sum:.2f}\")"
   ]
  },
  {
   "cell_type": "markdown",
   "id": "c00d70b3",
   "metadata": {},
   "source": [
    "# Problem 6: Factorial Series Sum"
   ]
  },
  {
   "cell_type": "code",
   "execution_count": 47,
   "id": "f3b7b820",
   "metadata": {},
   "outputs": [
    {
     "name": "stdout",
     "output_type": "stream",
     "text": [
      "153\n"
     ]
    }
   ],
   "source": [
    "n = 5\n",
    "sum = 0\n",
    "f = 1\n",
    "for i in range(1 ,n+1):\n",
    "    f *= i\n",
    "    sum += f\n",
    "print(sum)"
   ]
  },
  {
   "cell_type": "markdown",
   "id": "09b93214",
   "metadata": {},
   "source": [
    "# Problem 7: Exponential Series Sum"
   ]
  },
  {
   "cell_type": "code",
   "execution_count": 13,
   "id": "79018394",
   "metadata": {},
   "outputs": [
    {
     "name": "stdout",
     "output_type": "stream",
     "text": [
      "The sum of the series is 7.39 \n"
     ]
    }
   ],
   "source": [
    "N = 10 \n",
    "x = 2\n",
    "S = 0   \n",
    "f = 1 \n",
    "for n in range(N + 1):\n",
    "    S += f  \n",
    "    f *=  (x / (n + 1) )\n",
    "print(f\"The sum of the series is {S :.2f} \")\n"
   ]
  },
  {
   "cell_type": "markdown",
   "id": "e71a1a01",
   "metadata": {},
   "source": [
    "# Problem 8: Trigonometric Series Sum"
   ]
  },
  {
   "cell_type": "code",
   "execution_count": 12,
   "id": "ec52fc8d",
   "metadata": {},
   "outputs": [
    {
     "name": "stdout",
     "output_type": "stream",
     "text": [
      "The sum of the series is: 0.71\n"
     ]
    }
   ],
   "source": [
    "N = 10\n",
    "x = 2\n",
    "s = 0  \n",
    "f1 = 1\n",
    "for n in range(0 , N + 1):\n",
    "    den = 2*n+1\n",
    "    for i in range(1 , den+1):\n",
    "        f1 *= i\n",
    "    s += (((-1) ** n) * (x ** (2 * n+ 1))) /f1\n",
    "print(\"The sum of the series is:\", f\"{s:.2f}\")\n"
   ]
  },
  {
   "cell_type": "markdown",
   "id": "e7b196ca",
   "metadata": {},
   "source": [
    "# Problem 9: Alternating Series Sum"
   ]
  },
  {
   "cell_type": "code",
   "execution_count": 49,
   "id": "f638dda9",
   "metadata": {},
   "outputs": [
    {
     "name": "stdout",
     "output_type": "stream",
     "text": [
      "The sum of the series is: 0\n"
     ]
    }
   ],
   "source": [
    "N = 10\n",
    "an = 4\n",
    "s = 0\n",
    "for n in range(1 ,N + 1):\n",
    "    s += ((-1) ** n) * an\n",
    "print(\"The sum of the series is:\", s)\n"
   ]
  },
  {
   "cell_type": "code",
   "execution_count": 17,
   "id": "47c1c471",
   "metadata": {},
   "outputs": [
    {
     "name": "stdout",
     "output_type": "stream",
     "text": [
      "The sum of the series is: 200\n"
     ]
    }
   ],
   "source": [
    "N = 10\n",
    "bn = 3\n",
    "an = 4\n",
    "c =1\n",
    "S = 0\n",
    "for n in range(1 ,N + 1):\n",
    "    S += an**2 + bn + c\n",
    "print(\"The sum of the series is:\", S)\n"
   ]
  },
  {
   "cell_type": "code",
   "execution_count": 14,
   "id": "7547271f",
   "metadata": {},
   "outputs": [
    {
     "name": "stdout",
     "output_type": "stream",
     "text": [
      "The sum of the series is: 354288\n"
     ]
    }
   ],
   "source": [
    "N = 10\n",
    "x = 3\n",
    "an = 4 \n",
    "s = 0\n",
    "for n in range(1 ,N + 1):\n",
    "    s += an *x**n\n",
    "print(\"The sum of the series is:\", s)\n"
   ]
  },
  {
   "cell_type": "markdown",
   "id": "ebb28678",
   "metadata": {},
   "source": [
    "# Problem 13: Logarithmic Series Sum"
   ]
  },
  {
   "cell_type": "code",
   "execution_count": 45,
   "id": "11c541a6",
   "metadata": {},
   "outputs": [
    {
     "name": "stdout",
     "output_type": "stream",
     "text": [
      "The sum of the series is: 0.65\n"
     ]
    }
   ],
   "source": [
    "N = 10\n",
    "S = 0\n",
    "for n in range(1 ,N + 1):\n",
    "    S += ((-1) ** (n + 1)) / n\n",
    "print(f\"The sum of the series is: {S:.2f}\")"
   ]
  },
  {
   "cell_type": "markdown",
   "id": "212e96af",
   "metadata": {},
   "source": [
    "# Problem 10: Quadratic Series Sum\n"
   ]
  },
  {
   "cell_type": "code",
   "execution_count": 47,
   "id": "395355eb",
   "metadata": {},
   "outputs": [
    {
     "name": "stdout",
     "output_type": "stream",
     "text": [
      "The sum of the series is: 975\n"
     ]
    }
   ],
   "source": [
    "N = 10\n",
    "b = 3\n",
    "a = 2\n",
    "c =4\n",
    "S = 0\n",
    "for n in range(1 ,N + 1):\n",
    "    S += a*n**2 + b*n + c\n",
    "print(\"The sum of the series is:\", S)\n"
   ]
  },
  {
   "cell_type": "markdown",
   "id": "4f71bdfa",
   "metadata": {},
   "source": [
    "# Problem 12: Cosine Series Sum"
   ]
  },
  {
   "cell_type": "code",
   "execution_count": 43,
   "id": "f0570c3b",
   "metadata": {},
   "outputs": [
    {
     "name": "stdout",
     "output_type": "stream",
     "text": [
      "The sum of the series is: 1.42\n"
     ]
    }
   ],
   "source": [
    "N = 10  \n",
    "S = 0.0  \n",
    "x = 2.0  \n",
    "f = 1\n",
    "power = 1\n",
    "for n in range(N + 1):\n",
    "    term = ((-1) ** n * power) / f\n",
    "    S += term\n",
    "    f *= (2 * n + 1) * (2 * n + 2)\n",
    "    power *= x ** 2 \n",
    "\n",
    "print(f\"The sum of the series is: {S:.2f}\")\n"
   ]
  },
  {
   "cell_type": "markdown",
   "id": "677976ca",
   "metadata": {},
   "source": [
    "# Problem 14: Power Series Sum"
   ]
  },
  {
   "cell_type": "code",
   "execution_count": 50,
   "id": "9d60098f",
   "metadata": {},
   "outputs": [
    {
     "name": "stdout",
     "output_type": "stream",
     "text": [
      "The sum of the series is: 8188\n"
     ]
    }
   ],
   "source": [
    "N = 10\n",
    "x = 2\n",
    "#a = [1, 2, 3, 4, 5, 6, 7, 8, 9, 10, 11]\n",
    "S = 0\n",
    "an = 4\n",
    "for n in range(N + 1):\n",
    "    S += an * (x ** n)\n",
    "\n",
    "print(\"The sum of the series is:\", S)\n"
   ]
  },
  {
   "cell_type": "code",
   "execution_count": null,
   "id": "1eb1f9d7",
   "metadata": {},
   "outputs": [],
   "source": []
  }
 ],
 "metadata": {
  "kernelspec": {
   "display_name": "Python 3 (ipykernel)",
   "language": "python",
   "name": "python3"
  },
  "language_info": {
   "codemirror_mode": {
    "name": "ipython",
    "version": 3
   },
   "file_extension": ".py",
   "mimetype": "text/x-python",
   "name": "python",
   "nbconvert_exporter": "python",
   "pygments_lexer": "ipython3",
   "version": "3.11.5"
  }
 },
 "nbformat": 4,
 "nbformat_minor": 5
}
