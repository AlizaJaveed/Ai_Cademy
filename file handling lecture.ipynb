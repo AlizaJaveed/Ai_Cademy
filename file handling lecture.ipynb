{
 "cells": [
  {
   "cell_type": "markdown",
   "id": "7f6af837",
   "metadata": {},
   "source": [
    "# string"
   ]
  },
  {
   "cell_type": "code",
   "execution_count": 1,
   "id": "0415b08e",
   "metadata": {},
   "outputs": [
    {
     "data": {
      "text/plain": [
       "'helloparwaz'"
      ]
     },
     "execution_count": 1,
     "metadata": {},
     "output_type": "execute_result"
    }
   ],
   "source": [
    "s1 = \"hello\"\n",
    "s2  = \"parwaz\"\n",
    "s1+s2 "
   ]
  },
  {
   "cell_type": "code",
   "execution_count": 2,
   "id": "d78122bb",
   "metadata": {},
   "outputs": [
    {
     "ename": "TypeError",
     "evalue": "unsupported operand type(s) for -: 'str' and 'str'",
     "output_type": "error",
     "traceback": [
      "\u001b[1;31m---------------------------------------------------------------------------\u001b[0m",
      "\u001b[1;31mTypeError\u001b[0m                                 Traceback (most recent call last)",
      "Cell \u001b[1;32mIn[2], line 1\u001b[0m\n\u001b[1;32m----> 1\u001b[0m s1\u001b[38;5;241m-\u001b[39ms2\n",
      "\u001b[1;31mTypeError\u001b[0m: unsupported operand type(s) for -: 'str' and 'str'"
     ]
    }
   ],
   "source": [
    "s1-s2"
   ]
  },
  {
   "cell_type": "code",
   "execution_count": 3,
   "id": "8be5aeac",
   "metadata": {},
   "outputs": [
    {
     "data": {
      "text/plain": [
       "'hello parwaz'"
      ]
     },
     "execution_count": 3,
     "metadata": {},
     "output_type": "execute_result"
    }
   ],
   "source": [
    "s1+ \" \"+s2"
   ]
  },
  {
   "cell_type": "code",
   "execution_count": 5,
   "id": "c2c0c478",
   "metadata": {},
   "outputs": [
    {
     "data": {
      "text/plain": [
       "'parwazparwazparwazparwazparwaz'"
      ]
     },
     "execution_count": 5,
     "metadata": {},
     "output_type": "execute_result"
    }
   ],
   "source": [
    "s2*5"
   ]
  },
  {
   "cell_type": "code",
   "execution_count": 7,
   "id": "015c97b9",
   "metadata": {},
   "outputs": [
    {
     "name": "stdout",
     "output_type": "stream",
     "text": [
      "parwaz\n",
      "parwaz\n",
      "parwaz\n",
      "parwaz\n",
      "parwaz\n",
      "\n"
     ]
    }
   ],
   "source": [
    "print((s2+\"\\n\")*5)"
   ]
  },
  {
   "cell_type": "code",
   "execution_count": 8,
   "id": "5dc61d7d",
   "metadata": {},
   "outputs": [
    {
     "data": {
      "text/plain": [
       "5"
      ]
     },
     "execution_count": 8,
     "metadata": {},
     "output_type": "execute_result"
    }
   ],
   "source": [
    "len(s1)"
   ]
  },
  {
   "cell_type": "code",
   "execution_count": 9,
   "id": "32b4512b",
   "metadata": {},
   "outputs": [
    {
     "data": {
      "text/plain": [
       "11"
      ]
     },
     "execution_count": 9,
     "metadata": {},
     "output_type": "execute_result"
    }
   ],
   "source": [
    "len(s1+s2)"
   ]
  },
  {
   "cell_type": "code",
   "execution_count": 10,
   "id": "31968c44",
   "metadata": {},
   "outputs": [
    {
     "data": {
      "text/plain": [
       "6"
      ]
     },
     "execution_count": 10,
     "metadata": {},
     "output_type": "execute_result"
    }
   ],
   "source": [
    "len(s1+ \"\\n\")"
   ]
  },
  {
   "cell_type": "code",
   "execution_count": 11,
   "id": "4ef4611d",
   "metadata": {},
   "outputs": [
    {
     "data": {
      "text/plain": [
       "'Parwa'"
      ]
     },
     "execution_count": 11,
     "metadata": {},
     "output_type": "execute_result"
    }
   ],
   "source": [
    "s3 = \"Parwaz dilo ki jan\"\n",
    "s3[0:5]"
   ]
  },
  {
   "cell_type": "code",
   "execution_count": 13,
   "id": "6c606ac7",
   "metadata": {},
   "outputs": [
    {
     "data": {
      "text/plain": [
       "'dilo ki jan'"
      ]
     },
     "execution_count": 13,
     "metadata": {},
     "output_type": "execute_result"
    }
   ],
   "source": [
    "s3[7:]"
   ]
  },
  {
   "cell_type": "code",
   "execution_count": 14,
   "id": "961f601e",
   "metadata": {},
   "outputs": [
    {
     "data": {
      "text/plain": [
       "'PARWAZ DILO KI JAN'"
      ]
     },
     "execution_count": 14,
     "metadata": {},
     "output_type": "execute_result"
    }
   ],
   "source": [
    "s3.upper()"
   ]
  },
  {
   "cell_type": "code",
   "execution_count": 15,
   "id": "9719262c",
   "metadata": {},
   "outputs": [
    {
     "data": {
      "text/plain": [
       "'parwaz dilo ki jan'"
      ]
     },
     "execution_count": 15,
     "metadata": {},
     "output_type": "execute_result"
    }
   ],
   "source": [
    "s3.lower()"
   ]
  },
  {
   "cell_type": "code",
   "execution_count": 18,
   "id": "4ce0fc8a",
   "metadata": {},
   "outputs": [
    {
     "data": {
      "text/plain": [
       "'Parwaz dilo ki jan'"
      ]
     },
     "execution_count": 18,
     "metadata": {},
     "output_type": "execute_result"
    }
   ],
   "source": [
    "s3.capitalize()"
   ]
  },
  {
   "cell_type": "code",
   "execution_count": 21,
   "id": "c9a2eb11",
   "metadata": {},
   "outputs": [
    {
     "data": {
      "text/plain": [
       "['Parwaz', 'dilo', 'ki', 'jan']"
      ]
     },
     "execution_count": 21,
     "metadata": {},
     "output_type": "execute_result"
    }
   ],
   "source": [
    "s4 =s3.split()\n",
    "s4"
   ]
  },
  {
   "cell_type": "code",
   "execution_count": 22,
   "id": "bfcc1665",
   "metadata": {},
   "outputs": [
    {
     "data": {
      "text/plain": [
       "4"
      ]
     },
     "execution_count": 22,
     "metadata": {},
     "output_type": "execute_result"
    }
   ],
   "source": [
    "len(s4)"
   ]
  },
  {
   "cell_type": "code",
   "execution_count": 27,
   "id": "2584f1a9",
   "metadata": {},
   "outputs": [
    {
     "data": {
      "text/plain": [
       "'Aliza javed (AI)'"
      ]
     },
     "execution_count": 27,
     "metadata": {},
     "output_type": "execute_result"
    }
   ],
   "source": [
    "s5 = \"?Aliza javed (AI)?\"\n",
    "s5.strip(\"?\")"
   ]
  },
  {
   "cell_type": "code",
   "execution_count": 28,
   "id": "6b30fc59",
   "metadata": {},
   "outputs": [
    {
     "data": {
      "text/plain": [
       "'Aliza javed (AI)'"
      ]
     },
     "execution_count": 28,
     "metadata": {},
     "output_type": "execute_result"
    }
   ],
   "source": [
    "s6 = \"    Aliza javed (AI)     \"\n",
    "s6.strip()"
   ]
  },
  {
   "cell_type": "code",
   "execution_count": 33,
   "id": "a68c4555",
   "metadata": {},
   "outputs": [
    {
     "data": {
      "text/plain": [
       "'Aliza javed (AI)'"
      ]
     },
     "execution_count": 33,
     "metadata": {},
     "output_type": "execute_result"
    }
   ],
   "source": [
    "s6 = \"?Aliza javed (AI)!  ?\"\n",
    "s6.strip(\"!? \")"
   ]
  },
  {
   "cell_type": "code",
   "execution_count": 34,
   "id": "b84bf4cc",
   "metadata": {},
   "outputs": [
    {
     "data": {
      "text/plain": [
       "'Aliza kinza maria zareen'"
      ]
     },
     "execution_count": 34,
     "metadata": {},
     "output_type": "execute_result"
    }
   ],
   "source": [
    "words= [\"Aliza\",\"kinza\",\"maria\",\"zareen\"]\n",
    "\" \".join(words)"
   ]
  },
  {
   "cell_type": "code",
   "execution_count": 36,
   "id": "b441051d",
   "metadata": {},
   "outputs": [
    {
     "data": {
      "text/plain": [
       "5"
      ]
     },
     "execution_count": 36,
     "metadata": {},
     "output_type": "execute_result"
    }
   ],
   "source": [
    "s7 = \"i love Islamabad\"\n",
    "s7.find(\"e\")"
   ]
  },
  {
   "cell_type": "code",
   "execution_count": 37,
   "id": "64835063",
   "metadata": {},
   "outputs": [
    {
     "data": {
      "text/plain": [
       "2"
      ]
     },
     "execution_count": 37,
     "metadata": {},
     "output_type": "execute_result"
    }
   ],
   "source": [
    "s7.find(\"love\")"
   ]
  },
  {
   "cell_type": "markdown",
   "id": "204b9e94",
   "metadata": {},
   "source": [
    "# MODE Read Mood"
   ]
  },
  {
   "cell_type": "code",
   "execution_count": 39,
   "id": "948a5b80",
   "metadata": {},
   "outputs": [],
   "source": [
    "#r - read\n",
    "#w - write\n",
    "#a - append (add date)\n",
    "#b - binary\n",
    "#rb - binary read \n",
    "#wb - write read\n",
    "#r+ - read write (file cannot exit error)\n",
    "#w+ - write read "
   ]
  },
  {
   "cell_type": "code",
   "execution_count": 53,
   "id": "21afd13f",
   "metadata": {},
   "outputs": [
    {
     "ename": "FileNotFoundError",
     "evalue": "[Errno 2] No such file or directory: 'jupyter.txt'",
     "output_type": "error",
     "traceback": [
      "\u001b[1;31m---------------------------------------------------------------------------\u001b[0m",
      "\u001b[1;31mFileNotFoundError\u001b[0m                         Traceback (most recent call last)",
      "Cell \u001b[1;32mIn[53], line 1\u001b[0m\n\u001b[1;32m----> 1\u001b[0m f \u001b[38;5;241m=\u001b[39m \u001b[38;5;28mopen\u001b[39m(\u001b[38;5;124m\"\u001b[39m\u001b[38;5;124mjupyter.txt\u001b[39m\u001b[38;5;124m\"\u001b[39m,\u001b[38;5;124m\"\u001b[39m\u001b[38;5;124mr\u001b[39m\u001b[38;5;124m\"\u001b[39m)\n",
      "File \u001b[1;32m~\\anaconda3\\Lib\\site-packages\\IPython\\core\\interactiveshell.py:286\u001b[0m, in \u001b[0;36m_modified_open\u001b[1;34m(file, *args, **kwargs)\u001b[0m\n\u001b[0;32m    279\u001b[0m \u001b[38;5;28;01mif\u001b[39;00m file \u001b[38;5;129;01min\u001b[39;00m {\u001b[38;5;241m0\u001b[39m, \u001b[38;5;241m1\u001b[39m, \u001b[38;5;241m2\u001b[39m}:\n\u001b[0;32m    280\u001b[0m     \u001b[38;5;28;01mraise\u001b[39;00m \u001b[38;5;167;01mValueError\u001b[39;00m(\n\u001b[0;32m    281\u001b[0m         \u001b[38;5;124mf\u001b[39m\u001b[38;5;124m\"\u001b[39m\u001b[38;5;124mIPython won\u001b[39m\u001b[38;5;124m'\u001b[39m\u001b[38;5;124mt let you open fd=\u001b[39m\u001b[38;5;132;01m{\u001b[39;00mfile\u001b[38;5;132;01m}\u001b[39;00m\u001b[38;5;124m by default \u001b[39m\u001b[38;5;124m\"\u001b[39m\n\u001b[0;32m    282\u001b[0m         \u001b[38;5;124m\"\u001b[39m\u001b[38;5;124mas it is likely to crash IPython. If you know what you are doing, \u001b[39m\u001b[38;5;124m\"\u001b[39m\n\u001b[0;32m    283\u001b[0m         \u001b[38;5;124m\"\u001b[39m\u001b[38;5;124myou can use builtins\u001b[39m\u001b[38;5;124m'\u001b[39m\u001b[38;5;124m open.\u001b[39m\u001b[38;5;124m\"\u001b[39m\n\u001b[0;32m    284\u001b[0m     )\n\u001b[1;32m--> 286\u001b[0m \u001b[38;5;28;01mreturn\u001b[39;00m io_open(file, \u001b[38;5;241m*\u001b[39margs, \u001b[38;5;241m*\u001b[39m\u001b[38;5;241m*\u001b[39mkwargs)\n",
      "\u001b[1;31mFileNotFoundError\u001b[0m: [Errno 2] No such file or directory: 'jupyter.txt'"
     ]
    }
   ],
   "source": [
    "f = open(\"jupyter.txt\",\"r\")"
   ]
  },
  {
   "cell_type": "code",
   "execution_count": 62,
   "id": "43ce12ac",
   "metadata": {},
   "outputs": [],
   "source": [
    "f = open(\"ALIZA.txt\",\"w\")\n",
    "data = f"
   ]
  },
  {
   "cell_type": "code",
   "execution_count": 63,
   "id": "ac7a74d2",
   "metadata": {},
   "outputs": [
    {
     "data": {
      "text/plain": [
       "<_io.TextIOWrapper name='ALIZA.txt' mode='w' encoding='cp1252'>"
      ]
     },
     "execution_count": 63,
     "metadata": {},
     "output_type": "execute_result"
    }
   ],
   "source": [
    "data.write(\"parwaz pro\")\n",
    "data"
   ]
  },
  {
   "cell_type": "code",
   "execution_count": 61,
   "id": "6bfb0755",
   "metadata": {},
   "outputs": [
    {
     "ename": "NameError",
     "evalue": "name 'data' is not defined",
     "output_type": "error",
     "traceback": [
      "\u001b[1;31m---------------------------------------------------------------------------\u001b[0m",
      "\u001b[1;31mNameError\u001b[0m                                 Traceback (most recent call last)",
      "Cell \u001b[1;32mIn[61], line 1\u001b[0m\n\u001b[1;32m----> 1\u001b[0m data\u001b[38;5;241m.\u001b[39mwrite(\u001b[38;5;124m\"\u001b[39m\u001b[38;5;124mparwaz pro\u001b[39m\u001b[38;5;124m\"\u001b[39m)\n",
      "\u001b[1;31mNameError\u001b[0m: name 'data' is not defined"
     ]
    }
   ],
   "source": [
    "data.write(\"parwaz pro\")\n",
    "data"
   ]
  },
  {
   "cell_type": "code",
   "execution_count": 68,
   "id": "63ce0bc8",
   "metadata": {},
   "outputs": [
    {
     "ename": "ValueError",
     "evalue": "I/O operation on closed file.",
     "output_type": "error",
     "traceback": [
      "\u001b[1;31m---------------------------------------------------------------------------\u001b[0m",
      "\u001b[1;31mValueError\u001b[0m                                Traceback (most recent call last)",
      "Cell \u001b[1;32mIn[68], line 1\u001b[0m\n\u001b[1;32m----> 1\u001b[0m data\u001b[38;5;241m.\u001b[39mwrite(\u001b[38;5;124m\"\u001b[39m\u001b[38;5;124mparwaz\u001b[39m\u001b[38;5;124m\"\u001b[39m)\n",
      "\u001b[1;31mValueError\u001b[0m: I/O operation on closed file."
     ]
    }
   ],
   "source": [
    "data.write(\"parwaz\")"
   ]
  },
  {
   "cell_type": "code",
   "execution_count": 67,
   "id": "49ce92e0",
   "metadata": {},
   "outputs": [],
   "source": [
    "data.close()"
   ]
  },
  {
   "cell_type": "code",
   "execution_count": 69,
   "id": "84255671",
   "metadata": {},
   "outputs": [
    {
     "ename": "ValueError",
     "evalue": "I/O operation on closed file.",
     "output_type": "error",
     "traceback": [
      "\u001b[1;31m---------------------------------------------------------------------------\u001b[0m",
      "\u001b[1;31mValueError\u001b[0m                                Traceback (most recent call last)",
      "Cell \u001b[1;32mIn[69], line 1\u001b[0m\n\u001b[1;32m----> 1\u001b[0m \u001b[38;5;28mprint\u001b[39m(data\u001b[38;5;241m.\u001b[39mread())\n",
      "\u001b[1;31mValueError\u001b[0m: I/O operation on closed file."
     ]
    }
   ],
   "source": [
    "print(data.read())"
   ]
  },
  {
   "cell_type": "code",
   "execution_count": 70,
   "id": "0c4ad9c2",
   "metadata": {},
   "outputs": [],
   "source": [
    "f = open(\"ALIZA.txt\" , \"w\")"
   ]
  },
  {
   "cell_type": "code",
   "execution_count": 71,
   "id": "8adeed3d",
   "metadata": {},
   "outputs": [],
   "source": [
    "f.write(\"   aliza javed\")\n",
    "f.close()"
   ]
  },
  {
   "cell_type": "code",
   "execution_count": 73,
   "id": "bfb64120",
   "metadata": {},
   "outputs": [],
   "source": [
    "file = open(\"ALIZA.txt\")"
   ]
  },
  {
   "cell_type": "code",
   "execution_count": 75,
   "id": "c07ef58f",
   "metadata": {},
   "outputs": [
    {
     "data": {
      "text/plain": [
       "'   aliza javed'"
      ]
     },
     "execution_count": 75,
     "metadata": {},
     "output_type": "execute_result"
    }
   ],
   "source": [
    "file.read()"
   ]
  },
  {
   "cell_type": "code",
   "execution_count": 82,
   "id": "77314edd",
   "metadata": {},
   "outputs": [
    {
     "ename": "TypeError",
     "evalue": "write() argument must be str, not list",
     "output_type": "error",
     "traceback": [
      "\u001b[1;31m---------------------------------------------------------------------------\u001b[0m",
      "\u001b[1;31mTypeError\u001b[0m                                 Traceback (most recent call last)",
      "Cell \u001b[1;32mIn[82], line 1\u001b[0m\n\u001b[1;32m----> 1\u001b[0m file\u001b[38;5;241m.\u001b[39mwrite([\u001b[38;5;124m\"\u001b[39m\u001b[38;5;124moaedf\u001b[39m\u001b[38;5;124m\"\u001b[39m,\u001b[38;5;124m'\u001b[39m\u001b[38;5;124mfedsf\u001b[39m\u001b[38;5;124m'\u001b[39m,\u001b[38;5;124m\"\u001b[39m\u001b[38;5;124msffs\u001b[39m\u001b[38;5;124m\"\u001b[39m])\n\u001b[0;32m      2\u001b[0m \u001b[38;5;28;01mwith\u001b[39;00m \u001b[38;5;28mopen\u001b[39m(\u001b[38;5;124m\"\u001b[39m\u001b[38;5;124mALIZA.txt\u001b[39m\u001b[38;5;124m\"\u001b[39m ,\u001b[38;5;124m'\u001b[39m\u001b[38;5;124mr\u001b[39m\u001b[38;5;124m'\u001b[39m)\u001b[38;5;28;01mas\u001b[39;00m file:\n\u001b[0;32m      3\u001b[0m     total_lines \u001b[38;5;241m=\u001b[39m \u001b[38;5;28mlen\u001b[39m(file)\n",
      "\u001b[1;31mTypeError\u001b[0m: write() argument must be str, not list"
     ]
    }
   ],
   "source": [
    "with open(\"ALIZA.txt\" ,'r')as file:\n",
    "    total_lines = len(file)\n",
    "    line = f.readline()\n",
    "    line"
   ]
  },
  {
   "cell_type": "code",
   "execution_count": null,
   "id": "4bfb0e9d",
   "metadata": {},
   "outputs": [],
   "source": []
  }
 ],
 "metadata": {
  "kernelspec": {
   "display_name": "Python 3 (ipykernel)",
   "language": "python",
   "name": "python3"
  },
  "language_info": {
   "codemirror_mode": {
    "name": "ipython",
    "version": 3
   },
   "file_extension": ".py",
   "mimetype": "text/x-python",
   "name": "python",
   "nbconvert_exporter": "python",
   "pygments_lexer": "ipython3",
   "version": "3.11.5"
  }
 },
 "nbformat": 4,
 "nbformat_minor": 5
}
