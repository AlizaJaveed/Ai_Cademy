{
 "cells": [
  {
   "cell_type": "markdown",
   "id": "846dfcd5",
   "metadata": {},
   "source": [
    "# conditional statement \n",
    "\n"
   ]
  },
  {
   "cell_type": "code",
   "execution_count": 1,
   "id": "8986673c",
   "metadata": {},
   "outputs": [],
   "source": [
    "#(it control flow of life) && (True / false) "
   ]
  },
  {
   "cell_type": "code",
   "execution_count": 4,
   "id": "7db73c18",
   "metadata": {},
   "outputs": [
    {
     "name": "stdout",
     "output_type": "stream",
     "text": [
      "Enter the value of t: 12\n",
      "1\n"
     ]
    }
   ],
   "source": [
    "t = int(input(\"Enter the value of t: \"))\n",
    "if t<=-10:\n",
    "    f=0\n",
    "elif t>-10 or t<=-5:\n",
    "    f = 1\n",
    "elif t>-5 or t<=5:\n",
    "    print(\"t is T\")\n",
    "elif t>5 or t<=10:\n",
    "    print(\"t is T**T\")\n",
    "else :\n",
    "    f =0\n",
    "print(f)"
   ]
  },
  {
   "cell_type": "code",
   "execution_count": 6,
   "id": "fef42296",
   "metadata": {},
   "outputs": [
    {
     "name": "stdout",
     "output_type": "stream",
     "text": [
      "the number is greater then 4\n"
     ]
    }
   ],
   "source": [
    "x = 5\n",
    "if x > 20:\n",
    "    print(\"the number is greater then 20\")\n",
    "elif x > 4:\n",
    "        print(\"the number is greater then 4\")\n",
    "else:\n",
    "    print(\"unknown number\")"
   ]
  },
  {
   "cell_type": "code",
   "execution_count": null,
   "id": "ac8e22dd",
   "metadata": {},
   "outputs": [],
   "source": [
    "age = int(input(\"Enter age in year \"))\n",
    "if age <  12:\n",
    "    print(\"child age 50mg\")                                                                                                                                                                                                                      \")\n",
    "elif age <  19:\n",
    "     print(\"teen age \")\n",
    "elif age < 65 :\n",
    "    print(\"adult\")\n",
    "else :\n",
    "    print(\"senior\")"
   ]
  },
  {
   "cell_type": "code",
   "execution_count": null,
   "id": "f275e6ca",
   "metadata": {},
   "outputs": [],
   "source": [
    "age = int(input(\"Enter age in year \"))\n",
    "if age <  12:\n",
    "    patient = 'child'\n",
    "    doze = \"25mg\"                                                                                                                                                                                                                   \")\n",
    "elif age <  19:\n",
    "    patient = 'teen'\n",
    "    doze = \"50mg\" \n",
    "elif age < 65 :\n",
    "    patient = 'child'\n",
    "    doze = \"150mg\" \n",
    "else :\n",
    "    patient = 'senior'\n",
    "    doze = \"25mg\" \n",
    "print(f\"the patient is :{patient} and doze is :{doze}\")"
   ]
  },
  {
   "cell_type": "code",
   "execution_count": null,
   "id": "f54e77be",
   "metadata": {},
   "outputs": [],
   "source": [
    "num = int(input(\"enter number\"))\n",
    "if num >0:\n",
    "    if num % 2:\n",
    "        print(\"Odd number\")\n",
    "    else:\n",
    "        print(\"Even number\")\n",
    "else:\n",
    "    print(\"-ve number\")\n",
    "    if num % 2:\n",
    "        print(\"Odd number\")\n",
    "    else:\n",
    "        print(\"Even number\")"
   ]
  },
  {
   "cell_type": "code",
   "execution_count": null,
   "id": "b7ecaae7",
   "metadata": {},
   "outputs": [],
   "source": []
  },
  {
   "cell_type": "code",
   "execution_count": null,
   "id": "dbd1417f",
   "metadata": {},
   "outputs": [],
   "source": [
    "num = int(input(\"enter number\"))\n",
    "if num >0:\n",
    "    if num % 2:\n",
    "        print(\"Odd number\")\n",
    "    else:\n",
    "        print(\"Even number\")\n",
    "else:\n",
    "    print(\"-ve number\")\n",
    "    if num % 2:\n",
    "        print(\"Odd number\")\n",
    "    else:\n",
    "        print(\"Even number\")"
   ]
  },
  {
   "cell_type": "code",
   "execution_count": 10,
   "id": "5979cd8a",
   "metadata": {},
   "outputs": [
    {
     "name": "stdout",
     "output_type": "stream",
     "text": [
      "enter number12\n",
      "Even number\n"
     ]
    }
   ],
   "source": [
    "num = int(input(\"enter number\"))\n",
    "if num >0:\n",
    "    if num % 2:\n",
    "        print(\"Odd number\")\n",
    "    else:\n",
    "        print(\"Even number\")\n",
    "else:\n",
    "    print(\"-ve number\")\n",
    "    if num % 2:\n",
    "        print(\"Odd number\")\n",
    "    else:\n",
    "        print(\"Even number\")"
   ]
  },
  {
   "cell_type": "code",
   "execution_count": 17,
   "id": "61d105fa",
   "metadata": {},
   "outputs": [
    {
     "name": "stdout",
     "output_type": "stream",
     "text": [
      "enter marks90\n",
      "A\n"
     ]
    }
   ],
   "source": [
    "marks = int(input(\"enter marks\"))\n",
    "if marks >= 90:\n",
    "    print(\"A\")\n",
    "elif mark >= 80:\n",
    "    print(\"B+\")\n",
    "elif mark > 70:\n",
    "    print(\"B\")\n",
    "elif mark > 60:\n",
    "    print(\"C\")\n",
    "elif mark > 50:\n",
    "    print(\"D\")\n",
    "else:\n",
    "    print(\"fail\")"
   ]
  },
  {
   "cell_type": "code",
   "execution_count": 21,
   "id": "abe93f39",
   "metadata": {},
   "outputs": [
    {
     "name": "stdout",
     "output_type": "stream",
     "text": [
      "please make a payment to renew your membership\n"
     ]
    }
   ],
   "source": [
    "is_member = True\n",
    "has_paid = False\n",
    "if is_member :\n",
    "    if has_paid:\n",
    "        print(\"Thank you so much for your payment\")\n",
    "    else:\n",
    "        print(\"please make a payment to renew your membership\")\n",
    "else :\n",
    "    print(\"please join and pay\")"
   ]
  },
  {
   "cell_type": "code",
   "execution_count": 23,
   "id": "6730b250",
   "metadata": {},
   "outputs": [
    {
     "name": "stdout",
     "output_type": "stream",
     "text": [
      "Enter your age : 21\n",
      "You  have a ticket? (yes/no) :no\n",
      "phaly ticket lay aa bhai\n"
     ]
    }
   ],
   "source": [
    "age = int(input(\"Enter your age : \"))\n",
    "has_ticket = input(\"You  have a ticket? (yes/no) :\").lower() == \"yes\"\n",
    "if age >= 18 :\n",
    "    if has_ticket:\n",
    "        print(\"welcome \")\n",
    "    else:\n",
    "        print(\"phaly ticket lay aa bhai\")\n",
    "else :\n",
    "    print(\"bag ja\")"
   ]
  },
  {
   "cell_type": "code",
   "execution_count": 24,
   "id": "fd9e82b7",
   "metadata": {},
   "outputs": [
    {
     "name": "stdout",
     "output_type": "stream",
     "text": [
      "enter x : 3\n",
      "27\n"
     ]
    }
   ],
   "source": [
    "x = int(input(\"enter x : \"))\n",
    "y = x**2 if x>5  else x**3\n",
    "print(y)"
   ]
  },
  {
   "cell_type": "code",
   "execution_count": null,
   "id": "35b85a40",
   "metadata": {},
   "outputs": [],
   "source": []
  }
 ],
 "metadata": {
  "kernelspec": {
   "display_name": "Python 3 (ipykernel)",
   "language": "python",
   "name": "python3"
  },
  "language_info": {
   "codemirror_mode": {
    "name": "ipython",
    "version": 3
   },
   "file_extension": ".py",
   "mimetype": "text/x-python",
   "name": "python",
   "nbconvert_exporter": "python",
   "pygments_lexer": "ipython3",
   "version": "3.11.5"
  }
 },
 "nbformat": 4,
 "nbformat_minor": 5
}
