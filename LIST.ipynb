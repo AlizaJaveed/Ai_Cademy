{
 "cells": [
  {
   "cell_type": "code",
   "execution_count": 1,
   "id": "0e5f9f3d",
   "metadata": {},
   "outputs": [
    {
     "name": "stdout",
     "output_type": "stream",
     "text": [
      "['books', 'pen', 'mobile phone', 'charger', 12.212, 12, True]\n",
      "<class 'list'>\n"
     ]
    }
   ],
   "source": [
    "# list\n",
    "my_items = ['books' , 'pen' , 'mobile phone' , 'charger' , 12.212 , 12 ,True]\n",
    "print(my_items)\n",
    "print(type(my_items))"
   ]
  },
  {
   "cell_type": "code",
   "execution_count": 2,
   "id": "a92e77f0",
   "metadata": {},
   "outputs": [
    {
     "name": "stdout",
     "output_type": "stream",
     "text": [
      "['books', 'pen', 'mobile phone', 'charger', 12.212, 12, True, 'parwaz']\n"
     ]
    }
   ],
   "source": [
    "my_items.append(\"parwaz\")\n",
    "print(my_items)"
   ]
  },
  {
   "cell_type": "code",
   "execution_count": 3,
   "id": "0a90efd8",
   "metadata": {},
   "outputs": [
    {
     "name": "stdout",
     "output_type": "stream",
     "text": [
      "['books', 'pen', 'mobile phone', 'charger', 12.212, 12, True]\n"
     ]
    }
   ],
   "source": [
    "my_items.pop()\n",
    "print(my_items)"
   ]
  },
  {
   "cell_type": "code",
   "execution_count": 4,
   "id": "4169f83b",
   "metadata": {},
   "outputs": [
    {
     "data": {
      "text/plain": [
       "'books'"
      ]
     },
     "execution_count": 4,
     "metadata": {},
     "output_type": "execute_result"
    }
   ],
   "source": [
    "my_items[0] \n"
   ]
  },
  {
   "cell_type": "code",
   "execution_count": 5,
   "id": "7a4bc01b",
   "metadata": {},
   "outputs": [
    {
     "data": {
      "text/plain": [
       "True"
      ]
     },
     "execution_count": 5,
     "metadata": {},
     "output_type": "execute_result"
    }
   ],
   "source": [
    "my_items[-1] \n"
   ]
  },
  {
   "cell_type": "code",
   "execution_count": 8,
   "id": "59e79f46",
   "metadata": {},
   "outputs": [
    {
     "data": {
      "text/plain": [
       "['pen', 'mobile phone', 'charger']"
      ]
     },
     "execution_count": 8,
     "metadata": {},
     "output_type": "execute_result"
    }
   ],
   "source": [
    "my_items[1:4] \n"
   ]
  },
  {
   "cell_type": "code",
   "execution_count": 9,
   "id": "d1e81a7b",
   "metadata": {},
   "outputs": [
    {
     "data": {
      "text/plain": [
       "['mobile phone', 'charger', 12.212, 12, True]"
      ]
     },
     "execution_count": 9,
     "metadata": {},
     "output_type": "execute_result"
    }
   ],
   "source": [
    "my_items[2:] \n"
   ]
  },
  {
   "cell_type": "code",
   "execution_count": 11,
   "id": "39c1b853",
   "metadata": {},
   "outputs": [
    {
     "data": {
      "text/plain": [
       "['books', 'pen', 'mobile phone', 232, 12.212, 12, True]"
      ]
     },
     "execution_count": 11,
     "metadata": {},
     "output_type": "execute_result"
    }
   ],
   "source": [
    "my_items[3] = 232 \n",
    "my_items"
   ]
  },
  {
   "cell_type": "code",
   "execution_count": 12,
   "id": "2db02939",
   "metadata": {},
   "outputs": [
    {
     "data": {
      "text/plain": [
       "['books', 12.212, 'mobile phone', 232, 12.212, 12, True]"
      ]
     },
     "execution_count": 12,
     "metadata": {},
     "output_type": "execute_result"
    }
   ],
   "source": [
    "my_items[1] = my_items[4]\n",
    "tem = my_items[1] \n",
    "my_items"
   ]
  },
  {
   "cell_type": "code",
   "execution_count": 15,
   "id": "04065a40",
   "metadata": {},
   "outputs": [
    {
     "data": {
      "text/plain": [
       "['books', 12.212, 'mobile phone', 232, 'pen', 12, True]"
      ]
     },
     "execution_count": 15,
     "metadata": {},
     "output_type": "execute_result"
    }
   ],
   "source": [
    "my_items = ['books', 'pen', 'mobile phone', 232, 12.212, 12, True]\n",
    "temp1 = my_items[4]\n",
    "temp2 = my_items[1]\n",
    "my_items[4] = temp2\n",
    "my_items[1] = temp1\n",
    "my_items"
   ]
  },
  {
   "cell_type": "code",
   "execution_count": 16,
   "id": "7afe0425",
   "metadata": {},
   "outputs": [
    {
     "data": {
      "text/plain": [
       "['books', 'mobile phone', 12.212, 232, 'pen', 12, True]"
      ]
     },
     "execution_count": 16,
     "metadata": {},
     "output_type": "execute_result"
    }
   ],
   "source": [
    "my_items[1] ,my_items[2]  = my_items[2]  , my_items[1]\n",
    "my_items"
   ]
  },
  {
   "cell_type": "code",
   "execution_count": 17,
   "id": "98134da8",
   "metadata": {},
   "outputs": [
    {
     "data": {
      "text/plain": [
       "[['aliza', 'kinza', 'maria'], [1, 2, 3], [True, False]]"
      ]
     },
     "execution_count": 17,
     "metadata": {},
     "output_type": "execute_result"
    }
   ],
   "source": [
    "list1 = [[\"aliza\" , 'kinza' , 'maria'] , [1,2,3] , [True , False]]\n",
    "list1"
   ]
  },
  {
   "cell_type": "code",
   "execution_count": 18,
   "id": "b001482d",
   "metadata": {},
   "outputs": [
    {
     "data": {
      "text/plain": [
       "['aliza', 'kinza', 'maria']"
      ]
     },
     "execution_count": 18,
     "metadata": {},
     "output_type": "execute_result"
    }
   ],
   "source": [
    "list1[0]"
   ]
  },
  {
   "cell_type": "code",
   "execution_count": 19,
   "id": "276093ba",
   "metadata": {},
   "outputs": [
    {
     "data": {
      "text/plain": [
       "'kinza'"
      ]
     },
     "execution_count": 19,
     "metadata": {},
     "output_type": "execute_result"
    }
   ],
   "source": [
    "list1[0][1]"
   ]
  },
  {
   "cell_type": "code",
   "execution_count": 20,
   "id": "57746ee6",
   "metadata": {},
   "outputs": [
    {
     "data": {
      "text/plain": [
       "('one', 'two', 'three')"
      ]
     },
     "execution_count": 20,
     "metadata": {},
     "output_type": "execute_result"
    }
   ],
   "source": [
    "t1 = ('one', 'two','three')\n",
    "t1"
   ]
  },
  {
   "cell_type": "code",
   "execution_count": 21,
   "id": "e431dcbd",
   "metadata": {},
   "outputs": [
    {
     "ename": "AttributeError",
     "evalue": "'tuple' object has no attribute 'append'",
     "output_type": "error",
     "traceback": [
      "\u001b[1;31m---------------------------------------------------------------------------\u001b[0m",
      "\u001b[1;31mAttributeError\u001b[0m                            Traceback (most recent call last)",
      "Cell \u001b[1;32mIn[21], line 1\u001b[0m\n\u001b[1;32m----> 1\u001b[0m t1\u001b[38;5;241m.\u001b[39mappend(\u001b[38;5;124m\"\u001b[39m\u001b[38;5;124mfour\u001b[39m\u001b[38;5;124m\"\u001b[39m)\n",
      "\u001b[1;31mAttributeError\u001b[0m: 'tuple' object has no attribute 'append'"
     ]
    }
   ],
   "source": [
    "t1.append(\"four\")"
   ]
  },
  {
   "cell_type": "code",
   "execution_count": 22,
   "id": "d8e8f55f",
   "metadata": {},
   "outputs": [
    {
     "data": {
      "text/plain": [
       "('one', 'two', 'three')"
      ]
     },
     "execution_count": 22,
     "metadata": {},
     "output_type": "execute_result"
    }
   ],
   "source": [
    "t1"
   ]
  },
  {
   "cell_type": "code",
   "execution_count": 25,
   "id": "a3ff7421",
   "metadata": {},
   "outputs": [
    {
     "data": {
      "text/plain": [
       "'one'"
      ]
     },
     "execution_count": 25,
     "metadata": {},
     "output_type": "execute_result"
    }
   ],
   "source": [
    "t1[0]"
   ]
  },
  {
   "cell_type": "code",
   "execution_count": 26,
   "id": "c76e6258",
   "metadata": {},
   "outputs": [
    {
     "data": {
      "text/plain": [
       "[('apple', 'orange'), ('parwaz', 'aliza'), ['kinza', 'maria']]"
      ]
     },
     "execution_count": 26,
     "metadata": {},
     "output_type": "execute_result"
    }
   ],
   "source": [
    "t2 = [('apple' , \"orange\") , (\"parwaz\" , \"aliza\") , [\"kinza\" , \"maria\"]]\n",
    "t2"
   ]
  },
  {
   "cell_type": "code",
   "execution_count": 27,
   "id": "8da60ff6",
   "metadata": {},
   "outputs": [
    {
     "data": {
      "text/plain": [
       "('parwaz', 'aliza')"
      ]
     },
     "execution_count": 27,
     "metadata": {},
     "output_type": "execute_result"
    }
   ],
   "source": [
    "t2[1]"
   ]
  },
  {
   "cell_type": "code",
   "execution_count": 28,
   "id": "c2d9ab96",
   "metadata": {},
   "outputs": [
    {
     "data": {
      "text/plain": [
       "[('apple', 'orange'), ('parwaz', 'aliza'), ['kinza', 'maria', 'aliza']]"
      ]
     },
     "execution_count": 28,
     "metadata": {},
     "output_type": "execute_result"
    }
   ],
   "source": [
    "t2[2].append(\"aliza\")\n",
    "t2"
   ]
  },
  {
   "cell_type": "code",
   "execution_count": 29,
   "id": "b484dc9e",
   "metadata": {},
   "outputs": [
    {
     "data": {
      "text/plain": [
       "(['aliza', 'kinza'], (1, 2, 3))"
      ]
     },
     "execution_count": 29,
     "metadata": {},
     "output_type": "execute_result"
    }
   ],
   "source": [
    "t3 = ([\"aliza\" ,\"kinza\"] , (1 , 2, 3))\n",
    "t3"
   ]
  },
  {
   "cell_type": "code",
   "execution_count": 30,
   "id": "26d549f4",
   "metadata": {},
   "outputs": [],
   "source": [
    "t3[0].append(\"maria\")"
   ]
  },
  {
   "cell_type": "code",
   "execution_count": 31,
   "id": "167126ab",
   "metadata": {},
   "outputs": [
    {
     "data": {
      "text/plain": [
       "(['aliza', 'kinza', 'maria'], (1, 2, 3))"
      ]
     },
     "execution_count": 31,
     "metadata": {},
     "output_type": "execute_result"
    }
   ],
   "source": [
    "t3"
   ]
  },
  {
   "cell_type": "code",
   "execution_count": 32,
   "id": "de856291",
   "metadata": {},
   "outputs": [
    {
     "data": {
      "text/plain": [
       "list[['aliza', 'kinza', 'maria'], (1, 2, 3)]"
      ]
     },
     "execution_count": 32,
     "metadata": {},
     "output_type": "execute_result"
    }
   ],
   "source": [
    "list[t3]"
   ]
  },
  {
   "cell_type": "code",
   "execution_count": 33,
   "id": "396a44b7",
   "metadata": {},
   "outputs": [
    {
     "data": {
      "text/plain": [
       "{1, 2, 3, 4}"
      ]
     },
     "execution_count": 33,
     "metadata": {},
     "output_type": "execute_result"
    }
   ],
   "source": [
    "set1 = {1,2,3,4,3,2,1}\n",
    "set1"
   ]
  },
  {
   "cell_type": "code",
   "execution_count": 35,
   "id": "a2f6487f",
   "metadata": {},
   "outputs": [
    {
     "data": {
      "text/plain": [
       "{1, 2, 3, 4, 5}"
      ]
     },
     "execution_count": 35,
     "metadata": {},
     "output_type": "execute_result"
    }
   ],
   "source": [
    "set1.add(5)\n",
    "set1"
   ]
  },
  {
   "cell_type": "code",
   "execution_count": 36,
   "id": "2b594dcc",
   "metadata": {},
   "outputs": [],
   "source": [
    "set1.add(4)"
   ]
  },
  {
   "cell_type": "code",
   "execution_count": 37,
   "id": "61991b1a",
   "metadata": {},
   "outputs": [
    {
     "data": {
      "text/plain": [
       "{1, 2, 3, 4, 5}"
      ]
     },
     "execution_count": 37,
     "metadata": {},
     "output_type": "execute_result"
    }
   ],
   "source": [
    "set1"
   ]
  },
  {
   "cell_type": "code",
   "execution_count": 38,
   "id": "e37055ee",
   "metadata": {},
   "outputs": [],
   "source": [
    "set1.remove(3)"
   ]
  },
  {
   "cell_type": "code",
   "execution_count": 39,
   "id": "84281d87",
   "metadata": {},
   "outputs": [
    {
     "data": {
      "text/plain": [
       "{1, 2, 4, 5}"
      ]
     },
     "execution_count": 39,
     "metadata": {},
     "output_type": "execute_result"
    }
   ],
   "source": [
    "set1"
   ]
  },
  {
   "cell_type": "code",
   "execution_count": 41,
   "id": "ded1e3dd",
   "metadata": {},
   "outputs": [
    {
     "data": {
      "text/plain": [
       "{(1, 2, 3), 1, 2, 3}"
      ]
     },
     "execution_count": 41,
     "metadata": {},
     "output_type": "execute_result"
    }
   ],
   "source": [
    "set1 = { (1 , 2, 3) , 1, 2, 3}\n",
    "set1"
   ]
  },
  {
   "cell_type": "code",
   "execution_count": 42,
   "id": "18903f24",
   "metadata": {},
   "outputs": [
    {
     "data": {
      "text/plain": [
       "('aliza', 21, 21.12)"
      ]
     },
     "execution_count": 42,
     "metadata": {},
     "output_type": "execute_result"
    }
   ],
   "source": [
    "t4 = (\"aliza\" , 21 , 21.12)\n",
    "t4"
   ]
  },
  {
   "cell_type": "code",
   "execution_count": 43,
   "id": "8c1010ea",
   "metadata": {},
   "outputs": [],
   "source": [
    "name,age ,num = t4\n",
    "# pack to unpack"
   ]
  },
  {
   "cell_type": "code",
   "execution_count": 44,
   "id": "891480a2",
   "metadata": {},
   "outputs": [
    {
     "data": {
      "text/plain": [
       "'aliza'"
      ]
     },
     "execution_count": 44,
     "metadata": {},
     "output_type": "execute_result"
    }
   ],
   "source": [
    "name"
   ]
  },
  {
   "cell_type": "code",
   "execution_count": 45,
   "id": "4672dc79",
   "metadata": {},
   "outputs": [
    {
     "data": {
      "text/plain": [
       "21"
      ]
     },
     "execution_count": 45,
     "metadata": {},
     "output_type": "execute_result"
    }
   ],
   "source": [
    "age"
   ]
  },
  {
   "cell_type": "code",
   "execution_count": 46,
   "id": "db0ece67",
   "metadata": {},
   "outputs": [
    {
     "data": {
      "text/plain": [
       "21.12"
      ]
     },
     "execution_count": 46,
     "metadata": {},
     "output_type": "execute_result"
    }
   ],
   "source": [
    "num"
   ]
  },
  {
   "cell_type": "code",
   "execution_count": 47,
   "id": "f0c11213",
   "metadata": {},
   "outputs": [
    {
     "data": {
      "text/plain": [
       "'parwaz'"
      ]
     },
     "execution_count": 47,
     "metadata": {},
     "output_type": "execute_result"
    }
   ],
   "source": [
    "name = \"parwaz\"\n",
    "name"
   ]
  },
  {
   "cell_type": "code",
   "execution_count": 48,
   "id": "d8420185",
   "metadata": {},
   "outputs": [
    {
     "data": {
      "text/plain": [
       "('parwaz', 21, 21.12)"
      ]
     },
     "execution_count": 48,
     "metadata": {},
     "output_type": "execute_result"
    }
   ],
   "source": [
    "t4 = name , age , num\n",
    "t4\n",
    "# unpack to pack "
   ]
  },
  {
   "cell_type": "code",
   "execution_count": 50,
   "id": "b31fdb69",
   "metadata": {},
   "outputs": [
    {
     "data": {
      "text/plain": [
       "{'key1': 'parwaz', 'key2': 'kinza', 'key3': 'maria'}"
      ]
     },
     "execution_count": 50,
     "metadata": {},
     "output_type": "execute_result"
    }
   ],
   "source": [
    "dic = {\n",
    "    \"key1\" : \"aliza\",\n",
    "    \"key2\" : \"kinza\",\n",
    "    \"key3\" : \"maria\",\n",
    "    \"key1\" : \"parwaz\"\n",
    "}\n",
    "dic"
   ]
  },
  {
   "cell_type": "code",
   "execution_count": 51,
   "id": "e01d1768",
   "metadata": {},
   "outputs": [
    {
     "data": {
      "text/plain": [
       "'parwaz'"
      ]
     },
     "execution_count": 51,
     "metadata": {},
     "output_type": "execute_result"
    }
   ],
   "source": [
    "dic[\"key1\"]"
   ]
  },
  {
   "cell_type": "code",
   "execution_count": 54,
   "id": "22f9f7db",
   "metadata": {},
   "outputs": [
    {
     "data": {
      "text/plain": [
       "{'key1': 'parwaz', 'key2': 'kinza', 'key3': 'maria', 'key4': 'aliza'}"
      ]
     },
     "execution_count": 54,
     "metadata": {},
     "output_type": "execute_result"
    }
   ],
   "source": [
    "dic[\"key4\"] = \"aliza\"\n",
    "dic"
   ]
  },
  {
   "cell_type": "code",
   "execution_count": 55,
   "id": "bc28ae90",
   "metadata": {},
   "outputs": [
    {
     "data": {
      "text/plain": [
       "dict_values(['parwaz', 'kinza', 'maria', 'aliza'])"
      ]
     },
     "execution_count": 55,
     "metadata": {},
     "output_type": "execute_result"
    }
   ],
   "source": [
    "dic.values()"
   ]
  },
  {
   "cell_type": "code",
   "execution_count": 56,
   "id": "5b475089",
   "metadata": {},
   "outputs": [
    {
     "data": {
      "text/plain": [
       "dict_keys(['key1', 'key2', 'key3', 'key4'])"
      ]
     },
     "execution_count": 56,
     "metadata": {},
     "output_type": "execute_result"
    }
   ],
   "source": [
    "dic.keys()"
   ]
  },
  {
   "cell_type": "code",
   "execution_count": 58,
   "id": "eade927d",
   "metadata": {},
   "outputs": [
    {
     "name": "stdout",
     "output_type": "stream",
     "text": [
      "key1\n",
      "key2\n",
      "key3\n",
      "key4\n"
     ]
    }
   ],
   "source": [
    "for i in dic.keys():\n",
    "    print(i)"
   ]
  },
  {
   "cell_type": "code",
   "execution_count": 59,
   "id": "4484ea35",
   "metadata": {},
   "outputs": [
    {
     "name": "stdout",
     "output_type": "stream",
     "text": [
      "parwaz\n",
      "kinza\n",
      "maria\n",
      "aliza\n"
     ]
    }
   ],
   "source": [
    "for i in dic.values():\n",
    "    print(i)"
   ]
  },
  {
   "cell_type": "code",
   "execution_count": 61,
   "id": "6eacb96e",
   "metadata": {},
   "outputs": [
    {
     "name": "stdout",
     "output_type": "stream",
     "text": [
      "key1 :parwaz\n",
      "key2 :kinza\n",
      "key3 :maria\n",
      "key4 :aliza\n"
     ]
    }
   ],
   "source": [
    "for i , j in dic.items():\n",
    "    print(f\"{i} :{j}\")"
   ]
  },
  {
   "cell_type": "code",
   "execution_count": null,
   "id": "65001ee2",
   "metadata": {},
   "outputs": [],
   "source": []
  }
 ],
 "metadata": {
  "kernelspec": {
   "display_name": "Python 3 (ipykernel)",
   "language": "python",
   "name": "python3"
  },
  "language_info": {
   "codemirror_mode": {
    "name": "ipython",
    "version": 3
   },
   "file_extension": ".py",
   "mimetype": "text/x-python",
   "name": "python",
   "nbconvert_exporter": "python",
   "pygments_lexer": "ipython3",
   "version": "3.11.5"
  }
 },
 "nbformat": 4,
 "nbformat_minor": 5
}
