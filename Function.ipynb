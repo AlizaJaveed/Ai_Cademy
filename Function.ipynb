{
 "cells": [
  {
   "cell_type": "code",
   "execution_count": 6,
   "id": "8c361583",
   "metadata": {},
   "outputs": [
    {
     "data": {
      "text/plain": [
       "15"
      ]
     },
     "execution_count": 6,
     "metadata": {},
     "output_type": "execute_result"
    }
   ],
   "source": [
    "def calculate_rectangle_area( length , width):\n",
    "    Area = length * width\n",
    "    return Area\n",
    "calculate_rectangle_area(5,3)"
   ]
  },
  {
   "cell_type": "code",
   "execution_count": 7,
   "id": "3e9482d4",
   "metadata": {},
   "outputs": [
    {
     "data": {
      "text/plain": [
       "28"
      ]
     },
     "execution_count": 7,
     "metadata": {},
     "output_type": "execute_result"
    }
   ],
   "source": [
    "calculate_rectangle_area(7,4)"
   ]
  },
  {
   "cell_type": "code",
   "execution_count": 8,
   "id": "0b41c3aa",
   "metadata": {},
   "outputs": [
    {
     "data": {
      "text/plain": [
       "20"
      ]
     },
     "execution_count": 8,
     "metadata": {},
     "output_type": "execute_result"
    }
   ],
   "source": [
    "calculate_rectangle_area(10,2)"
   ]
  },
  {
   "cell_type": "markdown",
   "id": "fdaf74c2",
   "metadata": {},
   "source": [
    "# 2nd Question"
   ]
  },
  {
   "cell_type": "code",
   "execution_count": 14,
   "id": "e9cc2ee6",
   "metadata": {},
   "outputs": [
    {
     "name": "stdout",
     "output_type": "stream",
     "text": [
      "Old books are those published before 2000: [1990, 1995, 1999]\n",
      "Moderate books are those published between 2000 and 2010 (inclusive): [2005, 2003, 2008, 2001]\n",
      "New books are those published after 2010: [2012, 2015]\n"
     ]
    }
   ],
   "source": [
    "def categorize_books(publication_years):\n",
    "    old_books = []\n",
    "    moderate_books = []\n",
    "    new_books = []\n",
    "\n",
    "    for year in publication_years:\n",
    "        if year < 2000:\n",
    "            old_books.append(year)\n",
    "        elif 2000 <= year <= 2010:\n",
    "            moderate_books.append(year)\n",
    "        else:\n",
    "            new_books.append(year)\n",
    "\n",
    "    print(\"Old books are those published before 2000:\", old_books)\n",
    "    print(\"Moderate books are those published between 2000 and 2010 (inclusive):\", moderate_books)\n",
    "    print(\"New books are those published after 2010:\", new_books)\n",
    "\n",
    "list1 = [1990, 1995, 2005, 2012, 2003, 2008, 2015, 1999, 2001]\n",
    "categorize_books(list1)\n"
   ]
  },
  {
   "cell_type": "code",
   "execution_count": 28,
   "id": "7d39c20a",
   "metadata": {},
   "outputs": [
    {
     "name": "stdout",
     "output_type": "stream",
     "text": [
      "Cost J(θ): 0.03\n"
     ]
    }
   ],
   "source": [
    "def calculate_cost(h0, h1):\n",
    "    m = len(h0)\n",
    "    sum1 = 0\n",
    "\n",
    "    for i in range(m):\n",
    "        sum1 += (h0[i] - h1[i])** 2\n",
    "    cost = sum1 / (2 * m)\n",
    "    return cost\n",
    "predicted_values = [2.7, 4.1, 3.6, 5.3, 2.2]\n",
    "actual_values = [3.0, 4.0, 3.7, 5.0, 2.5]\n",
    "cost = calculate_cost(predicted_values, actual_values)\n",
    "print(f\"Cost J(θ): {cost:.2f}\")\n"
   ]
  },
  {
   "cell_type": "code",
   "execution_count": 22,
   "id": "67135de1",
   "metadata": {},
   "outputs": [],
   "source": [
    "def avg(num):\n",
    "    sum1 = sum(num)\n",
    "    length = len(num)\n",
    "    avg = sum1 /length\n",
    "    return avg\n",
    "list1 = [92, 87, 78, 95, 88, 91]\n",
    "list2 = [65, 70, 72, 68, 71]\n",
    "list3 = [83, 88, 90, 89]\n"
   ]
  },
  {
   "cell_type": "code",
   "execution_count": 23,
   "id": "d6585405",
   "metadata": {},
   "outputs": [
    {
     "data": {
      "text/plain": [
       "88.5"
      ]
     },
     "execution_count": 23,
     "metadata": {},
     "output_type": "execute_result"
    }
   ],
   "source": [
    "avg(list1)\n"
   ]
  },
  {
   "cell_type": "code",
   "execution_count": 24,
   "id": "8be5910e",
   "metadata": {},
   "outputs": [
    {
     "data": {
      "text/plain": [
       "69.2"
      ]
     },
     "execution_count": 24,
     "metadata": {},
     "output_type": "execute_result"
    }
   ],
   "source": [
    "avg(list2)"
   ]
  },
  {
   "cell_type": "code",
   "execution_count": 25,
   "id": "ff94f46b",
   "metadata": {},
   "outputs": [
    {
     "data": {
      "text/plain": [
       "87.5"
      ]
     },
     "execution_count": 25,
     "metadata": {},
     "output_type": "execute_result"
    }
   ],
   "source": [
    "avg(list3)"
   ]
  },
  {
   "cell_type": "code",
   "execution_count": 33,
   "id": "3cf1b71c",
   "metadata": {},
   "outputs": [
    {
     "name": "stdout",
     "output_type": "stream",
     "text": [
      "enter tax_rate : 56\n",
      "Employee 1 Total Pay: $418.00\n"
     ]
    }
   ],
   "source": [
    "def calculate_regular_pay(hours_worked, hourly_rate):\n",
    "    if hours_worked <= 40:\n",
    "        regular_hours = hours_worked\n",
    "        overtime_hours = 0\n",
    "    else:\n",
    "        regular_hours = 40\n",
    "        overtime_hours = hours_worked - 40\n",
    "    regular_pay = regular_hours * hourly_rate\n",
    "    overtime_pay = overtime_hours * (hourly_rate * 1.5)\n",
    "    return regular_pay + overtime_pay\n",
    "def calculate_total_pay(employee_id, hours_worked, hourly_rate):\n",
    "    tax_rate = int(input(\"enter tax_rate : \"))\n",
    "    regular_pay = calculate_regular_pay(hours_worked, hourly_rate)\n",
    "    tax_deduction = regular_pay * (tax_rate / 100)\n",
    "    total_pay = regular_pay - tax_deduction\n",
    "    return total_pay\n",
    "employee1_pay = calculate_total_pay(1, 45, 20)\n",
    "print(f\"Employee 1 Total Pay: ${employee1_pay:.2f}\")\n",
    "#print(f\"Employee 2 Total Pay: ${employee2_pay:.2f}\")\n"
   ]
  },
  {
   "cell_type": "code",
   "execution_count": null,
   "id": "4bca7155",
   "metadata": {},
   "outputs": [],
   "source": []
  }
 ],
 "metadata": {
  "kernelspec": {
   "display_name": "Python 3 (ipykernel)",
   "language": "python",
   "name": "python3"
  },
  "language_info": {
   "codemirror_mode": {
    "name": "ipython",
    "version": 3
   },
   "file_extension": ".py",
   "mimetype": "text/x-python",
   "name": "python",
   "nbconvert_exporter": "python",
   "pygments_lexer": "ipython3",
   "version": "3.11.5"
  }
 },
 "nbformat": 4,
 "nbformat_minor": 5
}
