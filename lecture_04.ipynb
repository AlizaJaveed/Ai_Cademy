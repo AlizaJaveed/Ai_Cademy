{
 "cells": [
  {
   "cell_type": "markdown",
   "id": "62d57462",
   "metadata": {},
   "source": [
    "# loop\n"
   ]
  },
  {
   "cell_type": "code",
   "execution_count": 2,
   "id": "84612194",
   "metadata": {},
   "outputs": [
    {
     "name": "stdout",
     "output_type": "stream",
     "text": [
      "0\n",
      "1\n",
      "2\n",
      "3\n",
      "4\n"
     ]
    }
   ],
   "source": [
    "for i in range(5):\n",
    "    print(i)"
   ]
  },
  {
   "cell_type": "code",
   "execution_count": 3,
   "id": "56a8ad0e",
   "metadata": {},
   "outputs": [
    {
     "data": {
      "text/plain": [
       "range(0, 5)"
      ]
     },
     "execution_count": 3,
     "metadata": {},
     "output_type": "execute_result"
    }
   ],
   "source": [
    "range(5)"
   ]
  },
  {
   "cell_type": "code",
   "execution_count": 9,
   "id": "74393896",
   "metadata": {},
   "outputs": [
    {
     "name": "stdout",
     "output_type": "stream",
     "text": [
      "['panda', 'aliza', 'love birds']\n",
      "panda\n",
      "aliza\n",
      "love birds\n"
     ]
    }
   ],
   "source": [
    "list1 = [\"panda\" ,'aliza' ,'love birds']\n",
    "print(list1)\n",
    "for i in list1:\n",
    "    print(i)"
   ]
  },
  {
   "cell_type": "code",
   "execution_count": 16,
   "id": "7463ae97",
   "metadata": {},
   "outputs": [
    {
     "name": "stdout",
     "output_type": "stream",
     "text": [
      "1\n",
      "3\n",
      "5\n",
      "7\n",
      "9\n",
      "11\n",
      "13\n",
      "15\n"
     ]
    }
   ],
   "source": [
    "for i in range(1,16 ,2):\n",
    "    print(i)\n",
    "\n",
    "    "
   ]
  },
  {
   "cell_type": "code",
   "execution_count": 19,
   "id": "76330f7a",
   "metadata": {},
   "outputs": [
    {
     "name": "stdout",
     "output_type": "stream",
     "text": [
      "10\n"
     ]
    }
   ],
   "source": [
    "y = 0\n",
    "for i in range(10):\n",
    "    y = i+1\n",
    "print(y)"
   ]
  },
  {
   "cell_type": "code",
   "execution_count": 20,
   "id": "fdc2097d",
   "metadata": {},
   "outputs": [
    {
     "name": "stdout",
     "output_type": "stream",
     "text": [
      "8\n"
     ]
    }
   ],
   "source": [
    "y = 0\n",
    "for i in range(10):\n",
    "    y = i-1\n",
    "print(y)"
   ]
  },
  {
   "cell_type": "code",
   "execution_count": 27,
   "id": "a4698a9f",
   "metadata": {},
   "outputs": [
    {
     "name": "stdout",
     "output_type": "stream",
     "text": [
      "32\n"
     ]
    }
   ],
   "source": [
    "y = 1\n",
    "for _ in range(0,5):\n",
    "    y *= 2\n",
    "print(y)"
   ]
  },
  {
   "cell_type": "code",
   "execution_count": 31,
   "id": "3951d1f5",
   "metadata": {},
   "outputs": [
    {
     "name": "stdout",
     "output_type": "stream",
     "text": [
      "6 3\n",
      "7 4\n",
      "8 5\n",
      "9 6\n",
      "10 7\n"
     ]
    }
   ],
   "source": [
    "x = 5\n",
    "y = 2\n",
    "\n",
    "while x < 10 and y <8:\n",
    "    x = x + 1\n",
    "    y = y+1\n",
    "    print(x , y)\n"
   ]
  },
  {
   "cell_type": "code",
   "execution_count": 32,
   "id": "121deda9",
   "metadata": {},
   "outputs": [
    {
     "name": "stdout",
     "output_type": "stream",
     "text": [
      "6 3\n",
      "7 4\n",
      "8 5\n",
      "9 6\n",
      "10 7\n",
      "11 8\n"
     ]
    }
   ],
   "source": [
    "x = 5\n",
    "y = 2\n",
    "while x < 10 or y <8:\n",
    "    x = x + 1\n",
    "    y = y+1\n",
    "    print(x , y)\n"
   ]
  },
  {
   "cell_type": "code",
   "execution_count": 33,
   "id": "224991d5",
   "metadata": {},
   "outputs": [
    {
     "name": "stdout",
     "output_type": "stream",
     "text": [
      "do you want to continue (yes/no)?:yes\n",
      "OK\n",
      "do you want to continue (yes/no)?:no\n"
     ]
    }
   ],
   "source": [
    "while True:\n",
    "    user = input(\"do you want to continue (yes/no)?:\").lower()\n",
    "    if user == \"yes\":\n",
    "        print(\"OK\")\n",
    "    elif user == \"no\":\n",
    "        break\n",
    "    else:\n",
    "        print(\"Please enter (yes/no) \")\n",
    "        "
   ]
  },
  {
   "cell_type": "code",
   "execution_count": 45,
   "id": "00090ea9",
   "metadata": {},
   "outputs": [
    {
     "name": "stdout",
     "output_type": "stream",
     "text": [
      "1\n",
      "4\n",
      "7\n",
      "10\n",
      "13\n"
     ]
    }
   ],
   "source": [
    "a0 = 1\n",
    "d = 3\n",
    "te = 5\n",
    "for i in range(te):\n",
    "    term = a0 + i* d\n",
    "    print(term)\n",
    "\n",
    "\n"
   ]
  },
  {
   "cell_type": "code",
   "execution_count": 59,
   "id": "347ce289",
   "metadata": {},
   "outputs": [
    {
     "name": "stdout",
     "output_type": "stream",
     "text": [
      "1\n",
      "4\n",
      "3\n",
      "8\n",
      "5\n",
      "12\n"
     ]
    }
   ],
   "source": [
    "a1,a2 = 1,4\n",
    "d1 = 2\n",
    "d2 = 4\n",
    "term = 4\n",
    "for i in range(term1+1):\n",
    "    if i % 2 == 0:\n",
    "        te = a1+((i//2)*d1)\n",
    "    else:\n",
    "        te = a2+((i//2)*d2)\n",
    "    print(te)"
   ]
  },
  {
   "cell_type": "code",
   "execution_count": 68,
   "id": "c496eca8",
   "metadata": {},
   "outputs": [
    {
     "name": "stdout",
     "output_type": "stream",
     "text": [
      "3\n",
      "6\n",
      "12\n",
      "24\n",
      "48\n",
      "96\n",
      "192\n",
      "384\n",
      "768\n",
      "1536\n",
      "3072\n"
     ]
    }
   ],
   "source": [
    "a0 = 3\n",
    "term = 10\n",
    "for i in range(term + 1):\n",
    "    term = a0 * (2 ** i)\n",
    "    print(term)\n",
    "\n",
    "\n"
   ]
  },
  {
   "cell_type": "code",
   "execution_count": null,
   "id": "f6e88aa6",
   "metadata": {},
   "outputs": [],
   "source": []
  }
 ],
 "metadata": {
  "kernelspec": {
   "display_name": "Python 3 (ipykernel)",
   "language": "python",
   "name": "python3"
  },
  "language_info": {
   "codemirror_mode": {
    "name": "ipython",
    "version": 3
   },
   "file_extension": ".py",
   "mimetype": "text/x-python",
   "name": "python",
   "nbconvert_exporter": "python",
   "pygments_lexer": "ipython3",
   "version": "3.11.5"
  }
 },
 "nbformat": 4,
 "nbformat_minor": 5
}
